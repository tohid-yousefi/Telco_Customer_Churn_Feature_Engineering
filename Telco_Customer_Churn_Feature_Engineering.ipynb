{
  "nbformat": 4,
  "nbformat_minor": 0,
  "metadata": {
    "colab": {
      "provenance": []
    },
    "kernelspec": {
      "name": "python3",
      "display_name": "Python 3"
    },
    "language_info": {
      "name": "python"
    }
  },
  "cells": [
    {
      "cell_type": "markdown",
      "source": [
        "# Telco Customer Churn Feature Engineering\n",
        "\n",
        "<hr />\n",
        "\n",
        "## Business Problem\n",
        "\n",
        "📌 It is desirable to develop a machine learning model that can predict customers who will leave the company. You are expected to perform the necessary data analysis and feature engineering steps before developing the model.\n",
        "\n",
        "## Dataset Story\n",
        "\n",
        "📌 Telco churn data includes information about a fictitious telecom company that provided home phone and Internet services to 7,043 California customers in the third quarter. It shows which customers have left, stayed or signed up for their service.\n",
        "\n",
        "CustomerId : Customer ID\n",
        "\n",
        "Gender: Gender\n",
        "\n",
        "SeniorCitizen : Whether the client is old (1, 0)\n",
        "\n",
        "Partner : Whether the client has a partner (Yes, No) ? whether to be married\n",
        "\n",
        "Dependents: Whether the customer has dependents (Yes, No) (Child, mother, father, grandmother)\n",
        "\n",
        "tenure : The number of months the customer has stayed with the company\n",
        "\n",
        "PhoneService : Whether the customer has phone service (Yes, No)\n",
        "\n",
        "MultipleLines : Whether the customer has more than one line (Yes, No, No Telephone service)\n",
        "\n",
        "InternetService : Customer's internet service provider (DSL, Fiber optic, No)\n",
        "\n",
        "OnlineSecurity : Whether the customer has online security (Yes, No, no Internet service)\n",
        "\n",
        "OnlineBackup : Whether the customer has an online backup (Yes, No, no Internet service)\n",
        "\n",
        "DeviceProtection : Whether the customer has device protection (Yes, No, no Internet service)\n",
        "\n",
        "TechSupport : Whether the customer has technical support (Yes, No, no Internet service)\n",
        "\n",
        "StreamingTV : Whether the customer is broadcasting TV (Yes, No, no Internet service) Indicates whether the customer uses the Internet service to stream television programs from a third-party provider\n",
        "\n",
        "StreamingMovies : Whether the customer is streaming movies (Yes, No, no Internet service) Indicates whether the customer is using the Internet service to stream movies from a third-party provider\n",
        "\n",
        "Contract : Contract duration of the client (Month to month, One year, Two years)\n",
        "\n",
        "PaperlessBilling : Whether the customer has a paperless invoice (Yes, No)\n",
        "\n",
        "PaymentMethod : Customer's payment method (Electronic check, Postal check, Bank transfer (automatic), Credit card (automatic))\n",
        "\n",
        "MonthlyCharges : The amount charged monthly from the customer\n",
        "\n",
        "TotalCharges : The total amount charged from the customer\n",
        "\n",
        "Churn : Whether the customer uses (Yes or No) - Customers who left in the last month or quarter"
      ],
      "metadata": {
        "id": "uD110367JiXH"
      }
    },
    {
      "cell_type": "markdown",
      "source": [
        "## Import Necessary Libraries"
      ],
      "metadata": {
        "id": "ynj8bHFtLh2W"
      }
    },
    {
      "cell_type": "code",
      "execution_count": 9,
      "metadata": {
        "colab": {
          "base_uri": "https://localhost:8080/"
        },
        "id": "tOj0iUc6JaWX",
        "outputId": "69a8410a-9df2-416f-edb2-9533d9539dfc"
      },
      "outputs": [
        {
          "output_type": "stream",
          "name": "stdout",
          "text": [
            "Looking in indexes: https://pypi.org/simple, https://us-python.pkg.dev/colab-wheels/public/simple/\n",
            "Requirement already satisfied: catboost in /usr/local/lib/python3.8/dist-packages (1.1.1)\n",
            "Requirement already satisfied: plotly in /usr/local/lib/python3.8/dist-packages (from catboost) (5.5.0)\n",
            "Requirement already satisfied: graphviz in /usr/local/lib/python3.8/dist-packages (from catboost) (0.10.1)\n",
            "Requirement already satisfied: matplotlib in /usr/local/lib/python3.8/dist-packages (from catboost) (3.2.2)\n",
            "Requirement already satisfied: numpy>=1.16.0 in /usr/local/lib/python3.8/dist-packages (from catboost) (1.21.6)\n",
            "Requirement already satisfied: scipy in /usr/local/lib/python3.8/dist-packages (from catboost) (1.7.3)\n",
            "Requirement already satisfied: pandas>=0.24.0 in /usr/local/lib/python3.8/dist-packages (from catboost) (1.3.5)\n",
            "Requirement already satisfied: six in /usr/local/lib/python3.8/dist-packages (from catboost) (1.15.0)\n",
            "Requirement already satisfied: pytz>=2017.3 in /usr/local/lib/python3.8/dist-packages (from pandas>=0.24.0->catboost) (2022.6)\n",
            "Requirement already satisfied: python-dateutil>=2.7.3 in /usr/local/lib/python3.8/dist-packages (from pandas>=0.24.0->catboost) (2.8.2)\n",
            "Requirement already satisfied: pyparsing!=2.0.4,!=2.1.2,!=2.1.6,>=2.0.1 in /usr/local/lib/python3.8/dist-packages (from matplotlib->catboost) (3.0.9)\n",
            "Requirement already satisfied: cycler>=0.10 in /usr/local/lib/python3.8/dist-packages (from matplotlib->catboost) (0.11.0)\n",
            "Requirement already satisfied: kiwisolver>=1.0.1 in /usr/local/lib/python3.8/dist-packages (from matplotlib->catboost) (1.4.4)\n",
            "Requirement already satisfied: tenacity>=6.2.0 in /usr/local/lib/python3.8/dist-packages (from plotly->catboost) (8.1.0)\n"
          ]
        }
      ],
      "source": [
        "import numpy as np\n",
        "import pandas as pd\n",
        "import matplotlib.pyplot as plt\n",
        "import seaborn as sns\n",
        "!pip install catboost\n",
        "from catboost import CatBoostClassifier\n",
        "from sklearn.metrics import accuracy_score, precision_score, recall_score, f1_score, roc_auc_score\n",
        "from sklearn.model_selection import GridSearchCV, cross_validate, train_test_split\n",
        "from sklearn.preprocessing import LabelEncoder, StandardScaler\n",
        "import warnings\n",
        "warnings.simplefilter(action=\"ignore\")\n",
        "pd.set_option('display.max_columns', 500)\n",
        "pd.set_option('display.width', None)\n",
        "pd.set_option('display.max_rows', 500)\n",
        "pd.set_option('display.float_format', lambda x: '%.3f' % x)"
      ]
    },
    {
      "cell_type": "markdown",
      "source": [
        "## Import Dataset"
      ],
      "metadata": {
        "id": "D879E_imMAZz"
      }
    },
    {
      "cell_type": "code",
      "source": [
        "df = pd.read_csv(\"/content/drive/MyDrive/Colab Notebooks/datasets/Telco-Customer-Churn.csv\")\n",
        "df.head()"
      ],
      "metadata": {
        "colab": {
          "base_uri": "https://localhost:8080/",
          "height": 357
        },
        "id": "xBenJXanL84A",
        "outputId": "8812f323-ff74-481a-8a77-bb5113d223b2"
      },
      "execution_count": 4,
      "outputs": [
        {
          "output_type": "execute_result",
          "data": {
            "text/plain": [
              "   customerID  gender  SeniorCitizen Partner Dependents  tenure PhoneService  \\\n",
              "0  7590-VHVEG  Female              0     Yes         No       1           No   \n",
              "1  5575-GNVDE    Male              0      No         No      34          Yes   \n",
              "2  3668-QPYBK    Male              0      No         No       2          Yes   \n",
              "3  7795-CFOCW    Male              0      No         No      45           No   \n",
              "4  9237-HQITU  Female              0      No         No       2          Yes   \n",
              "\n",
              "      MultipleLines InternetService OnlineSecurity OnlineBackup  \\\n",
              "0  No phone service             DSL             No          Yes   \n",
              "1                No             DSL            Yes           No   \n",
              "2                No             DSL            Yes          Yes   \n",
              "3  No phone service             DSL            Yes           No   \n",
              "4                No     Fiber optic             No           No   \n",
              "\n",
              "  DeviceProtection TechSupport StreamingTV StreamingMovies        Contract  \\\n",
              "0               No          No          No              No  Month-to-month   \n",
              "1              Yes          No          No              No        One year   \n",
              "2               No          No          No              No  Month-to-month   \n",
              "3              Yes         Yes          No              No        One year   \n",
              "4               No          No          No              No  Month-to-month   \n",
              "\n",
              "  PaperlessBilling              PaymentMethod  MonthlyCharges TotalCharges  \\\n",
              "0              Yes           Electronic check          29.850        29.85   \n",
              "1               No               Mailed check          56.950       1889.5   \n",
              "2              Yes               Mailed check          53.850       108.15   \n",
              "3               No  Bank transfer (automatic)          42.300      1840.75   \n",
              "4              Yes           Electronic check          70.700       151.65   \n",
              "\n",
              "  Churn  \n",
              "0    No  \n",
              "1    No  \n",
              "2   Yes  \n",
              "3    No  \n",
              "4   Yes  "
            ],
            "text/html": [
              "\n",
              "  <div id=\"df-141da183-3296-44eb-9802-87236ff2d15b\">\n",
              "    <div class=\"colab-df-container\">\n",
              "      <div>\n",
              "<style scoped>\n",
              "    .dataframe tbody tr th:only-of-type {\n",
              "        vertical-align: middle;\n",
              "    }\n",
              "\n",
              "    .dataframe tbody tr th {\n",
              "        vertical-align: top;\n",
              "    }\n",
              "\n",
              "    .dataframe thead th {\n",
              "        text-align: right;\n",
              "    }\n",
              "</style>\n",
              "<table border=\"1\" class=\"dataframe\">\n",
              "  <thead>\n",
              "    <tr style=\"text-align: right;\">\n",
              "      <th></th>\n",
              "      <th>customerID</th>\n",
              "      <th>gender</th>\n",
              "      <th>SeniorCitizen</th>\n",
              "      <th>Partner</th>\n",
              "      <th>Dependents</th>\n",
              "      <th>tenure</th>\n",
              "      <th>PhoneService</th>\n",
              "      <th>MultipleLines</th>\n",
              "      <th>InternetService</th>\n",
              "      <th>OnlineSecurity</th>\n",
              "      <th>OnlineBackup</th>\n",
              "      <th>DeviceProtection</th>\n",
              "      <th>TechSupport</th>\n",
              "      <th>StreamingTV</th>\n",
              "      <th>StreamingMovies</th>\n",
              "      <th>Contract</th>\n",
              "      <th>PaperlessBilling</th>\n",
              "      <th>PaymentMethod</th>\n",
              "      <th>MonthlyCharges</th>\n",
              "      <th>TotalCharges</th>\n",
              "      <th>Churn</th>\n",
              "    </tr>\n",
              "  </thead>\n",
              "  <tbody>\n",
              "    <tr>\n",
              "      <th>0</th>\n",
              "      <td>7590-VHVEG</td>\n",
              "      <td>Female</td>\n",
              "      <td>0</td>\n",
              "      <td>Yes</td>\n",
              "      <td>No</td>\n",
              "      <td>1</td>\n",
              "      <td>No</td>\n",
              "      <td>No phone service</td>\n",
              "      <td>DSL</td>\n",
              "      <td>No</td>\n",
              "      <td>Yes</td>\n",
              "      <td>No</td>\n",
              "      <td>No</td>\n",
              "      <td>No</td>\n",
              "      <td>No</td>\n",
              "      <td>Month-to-month</td>\n",
              "      <td>Yes</td>\n",
              "      <td>Electronic check</td>\n",
              "      <td>29.850</td>\n",
              "      <td>29.85</td>\n",
              "      <td>No</td>\n",
              "    </tr>\n",
              "    <tr>\n",
              "      <th>1</th>\n",
              "      <td>5575-GNVDE</td>\n",
              "      <td>Male</td>\n",
              "      <td>0</td>\n",
              "      <td>No</td>\n",
              "      <td>No</td>\n",
              "      <td>34</td>\n",
              "      <td>Yes</td>\n",
              "      <td>No</td>\n",
              "      <td>DSL</td>\n",
              "      <td>Yes</td>\n",
              "      <td>No</td>\n",
              "      <td>Yes</td>\n",
              "      <td>No</td>\n",
              "      <td>No</td>\n",
              "      <td>No</td>\n",
              "      <td>One year</td>\n",
              "      <td>No</td>\n",
              "      <td>Mailed check</td>\n",
              "      <td>56.950</td>\n",
              "      <td>1889.5</td>\n",
              "      <td>No</td>\n",
              "    </tr>\n",
              "    <tr>\n",
              "      <th>2</th>\n",
              "      <td>3668-QPYBK</td>\n",
              "      <td>Male</td>\n",
              "      <td>0</td>\n",
              "      <td>No</td>\n",
              "      <td>No</td>\n",
              "      <td>2</td>\n",
              "      <td>Yes</td>\n",
              "      <td>No</td>\n",
              "      <td>DSL</td>\n",
              "      <td>Yes</td>\n",
              "      <td>Yes</td>\n",
              "      <td>No</td>\n",
              "      <td>No</td>\n",
              "      <td>No</td>\n",
              "      <td>No</td>\n",
              "      <td>Month-to-month</td>\n",
              "      <td>Yes</td>\n",
              "      <td>Mailed check</td>\n",
              "      <td>53.850</td>\n",
              "      <td>108.15</td>\n",
              "      <td>Yes</td>\n",
              "    </tr>\n",
              "    <tr>\n",
              "      <th>3</th>\n",
              "      <td>7795-CFOCW</td>\n",
              "      <td>Male</td>\n",
              "      <td>0</td>\n",
              "      <td>No</td>\n",
              "      <td>No</td>\n",
              "      <td>45</td>\n",
              "      <td>No</td>\n",
              "      <td>No phone service</td>\n",
              "      <td>DSL</td>\n",
              "      <td>Yes</td>\n",
              "      <td>No</td>\n",
              "      <td>Yes</td>\n",
              "      <td>Yes</td>\n",
              "      <td>No</td>\n",
              "      <td>No</td>\n",
              "      <td>One year</td>\n",
              "      <td>No</td>\n",
              "      <td>Bank transfer (automatic)</td>\n",
              "      <td>42.300</td>\n",
              "      <td>1840.75</td>\n",
              "      <td>No</td>\n",
              "    </tr>\n",
              "    <tr>\n",
              "      <th>4</th>\n",
              "      <td>9237-HQITU</td>\n",
              "      <td>Female</td>\n",
              "      <td>0</td>\n",
              "      <td>No</td>\n",
              "      <td>No</td>\n",
              "      <td>2</td>\n",
              "      <td>Yes</td>\n",
              "      <td>No</td>\n",
              "      <td>Fiber optic</td>\n",
              "      <td>No</td>\n",
              "      <td>No</td>\n",
              "      <td>No</td>\n",
              "      <td>No</td>\n",
              "      <td>No</td>\n",
              "      <td>No</td>\n",
              "      <td>Month-to-month</td>\n",
              "      <td>Yes</td>\n",
              "      <td>Electronic check</td>\n",
              "      <td>70.700</td>\n",
              "      <td>151.65</td>\n",
              "      <td>Yes</td>\n",
              "    </tr>\n",
              "  </tbody>\n",
              "</table>\n",
              "</div>\n",
              "      <button class=\"colab-df-convert\" onclick=\"convertToInteractive('df-141da183-3296-44eb-9802-87236ff2d15b')\"\n",
              "              title=\"Convert this dataframe to an interactive table.\"\n",
              "              style=\"display:none;\">\n",
              "        \n",
              "  <svg xmlns=\"http://www.w3.org/2000/svg\" height=\"24px\"viewBox=\"0 0 24 24\"\n",
              "       width=\"24px\">\n",
              "    <path d=\"M0 0h24v24H0V0z\" fill=\"none\"/>\n",
              "    <path d=\"M18.56 5.44l.94 2.06.94-2.06 2.06-.94-2.06-.94-.94-2.06-.94 2.06-2.06.94zm-11 1L8.5 8.5l.94-2.06 2.06-.94-2.06-.94L8.5 2.5l-.94 2.06-2.06.94zm10 10l.94 2.06.94-2.06 2.06-.94-2.06-.94-.94-2.06-.94 2.06-2.06.94z\"/><path d=\"M17.41 7.96l-1.37-1.37c-.4-.4-.92-.59-1.43-.59-.52 0-1.04.2-1.43.59L10.3 9.45l-7.72 7.72c-.78.78-.78 2.05 0 2.83L4 21.41c.39.39.9.59 1.41.59.51 0 1.02-.2 1.41-.59l7.78-7.78 2.81-2.81c.8-.78.8-2.07 0-2.86zM5.41 20L4 18.59l7.72-7.72 1.47 1.35L5.41 20z\"/>\n",
              "  </svg>\n",
              "      </button>\n",
              "      \n",
              "  <style>\n",
              "    .colab-df-container {\n",
              "      display:flex;\n",
              "      flex-wrap:wrap;\n",
              "      gap: 12px;\n",
              "    }\n",
              "\n",
              "    .colab-df-convert {\n",
              "      background-color: #E8F0FE;\n",
              "      border: none;\n",
              "      border-radius: 50%;\n",
              "      cursor: pointer;\n",
              "      display: none;\n",
              "      fill: #1967D2;\n",
              "      height: 32px;\n",
              "      padding: 0 0 0 0;\n",
              "      width: 32px;\n",
              "    }\n",
              "\n",
              "    .colab-df-convert:hover {\n",
              "      background-color: #E2EBFA;\n",
              "      box-shadow: 0px 1px 2px rgba(60, 64, 67, 0.3), 0px 1px 3px 1px rgba(60, 64, 67, 0.15);\n",
              "      fill: #174EA6;\n",
              "    }\n",
              "\n",
              "    [theme=dark] .colab-df-convert {\n",
              "      background-color: #3B4455;\n",
              "      fill: #D2E3FC;\n",
              "    }\n",
              "\n",
              "    [theme=dark] .colab-df-convert:hover {\n",
              "      background-color: #434B5C;\n",
              "      box-shadow: 0px 1px 3px 1px rgba(0, 0, 0, 0.15);\n",
              "      filter: drop-shadow(0px 1px 2px rgba(0, 0, 0, 0.3));\n",
              "      fill: #FFFFFF;\n",
              "    }\n",
              "  </style>\n",
              "\n",
              "      <script>\n",
              "        const buttonEl =\n",
              "          document.querySelector('#df-141da183-3296-44eb-9802-87236ff2d15b button.colab-df-convert');\n",
              "        buttonEl.style.display =\n",
              "          google.colab.kernel.accessAllowed ? 'block' : 'none';\n",
              "\n",
              "        async function convertToInteractive(key) {\n",
              "          const element = document.querySelector('#df-141da183-3296-44eb-9802-87236ff2d15b');\n",
              "          const dataTable =\n",
              "            await google.colab.kernel.invokeFunction('convertToInteractive',\n",
              "                                                     [key], {});\n",
              "          if (!dataTable) return;\n",
              "\n",
              "          const docLinkHtml = 'Like what you see? Visit the ' +\n",
              "            '<a target=\"_blank\" href=https://colab.research.google.com/notebooks/data_table.ipynb>data table notebook</a>'\n",
              "            + ' to learn more about interactive tables.';\n",
              "          element.innerHTML = '';\n",
              "          dataTable['output_type'] = 'display_data';\n",
              "          await google.colab.output.renderOutput(dataTable, element);\n",
              "          const docLink = document.createElement('div');\n",
              "          docLink.innerHTML = docLinkHtml;\n",
              "          element.appendChild(docLink);\n",
              "        }\n",
              "      </script>\n",
              "    </div>\n",
              "  </div>\n",
              "  "
            ]
          },
          "metadata": {},
          "execution_count": 4
        }
      ]
    },
    {
      "cell_type": "code",
      "source": [
        "df[\"TotalCharges\"] = pd.to_numeric(df[\"TotalCharges\"], errors=\"coerce\")\n",
        "df[\"Churn\"] = df[\"Churn\"].apply(lambda x: 1 if x==\"Yes\" else 0)"
      ],
      "metadata": {
        "id": "Qw5NwrzIN-dS"
      },
      "execution_count": 6,
      "outputs": []
    },
    {
      "cell_type": "markdown",
      "source": [
        "## General Information About to the Dataset"
      ],
      "metadata": {
        "id": "TWiZcBeiOm94"
      }
    },
    {
      "cell_type": "code",
      "source": [
        "def check_df(dataframe,head=5):\n",
        "  print(\"######################### Head #########################\")\n",
        "  print(dataframe.head(head))\n",
        "  print(\"######################### Tail #########################\")\n",
        "  print(dataframe.tail(head))\n",
        "  print(\"######################### Shape #########################\")\n",
        "  print(dataframe.shape)\n",
        "  print(\"######################### Types #########################\")\n",
        "  print(dataframe.dtypes)\n",
        "  print(\"######################### NA #########################\")\n",
        "  print(dataframe.isnull().sum())\n",
        "  print(\"######################### Qurtiles #########################\")\n",
        "  print(dataframe.describe([0, 0.05, 0.50, 0.95, 0.99, 1]).T)"
      ],
      "metadata": {
        "id": "e2R7uVOtOkBg"
      },
      "execution_count": 10,
      "outputs": []
    },
    {
      "cell_type": "code",
      "source": [
        "check_df(df)"
      ],
      "metadata": {
        "colab": {
          "base_uri": "https://localhost:8080/"
        },
        "id": "ELtGPszTOsHX",
        "outputId": "30c571b3-2345-4e5a-a3cd-5011424dd1b9"
      },
      "execution_count": 11,
      "outputs": [
        {
          "output_type": "stream",
          "name": "stdout",
          "text": [
            "######################### Head #########################\n",
            "   customerID  gender  SeniorCitizen Partner Dependents  tenure PhoneService  \\\n",
            "0  7590-VHVEG  Female              0     Yes         No       1           No   \n",
            "1  5575-GNVDE    Male              0      No         No      34          Yes   \n",
            "2  3668-QPYBK    Male              0      No         No       2          Yes   \n",
            "3  7795-CFOCW    Male              0      No         No      45           No   \n",
            "4  9237-HQITU  Female              0      No         No       2          Yes   \n",
            "\n",
            "      MultipleLines InternetService OnlineSecurity OnlineBackup  \\\n",
            "0  No phone service             DSL             No          Yes   \n",
            "1                No             DSL            Yes           No   \n",
            "2                No             DSL            Yes          Yes   \n",
            "3  No phone service             DSL            Yes           No   \n",
            "4                No     Fiber optic             No           No   \n",
            "\n",
            "  DeviceProtection TechSupport StreamingTV StreamingMovies        Contract  \\\n",
            "0               No          No          No              No  Month-to-month   \n",
            "1              Yes          No          No              No        One year   \n",
            "2               No          No          No              No  Month-to-month   \n",
            "3              Yes         Yes          No              No        One year   \n",
            "4               No          No          No              No  Month-to-month   \n",
            "\n",
            "  PaperlessBilling              PaymentMethod  MonthlyCharges  TotalCharges  \\\n",
            "0              Yes           Electronic check          29.850        29.850   \n",
            "1               No               Mailed check          56.950      1889.500   \n",
            "2              Yes               Mailed check          53.850       108.150   \n",
            "3               No  Bank transfer (automatic)          42.300      1840.750   \n",
            "4              Yes           Electronic check          70.700       151.650   \n",
            "\n",
            "   Churn  \n",
            "0      0  \n",
            "1      0  \n",
            "2      1  \n",
            "3      0  \n",
            "4      1  \n",
            "######################### Tail #########################\n",
            "      customerID  gender  SeniorCitizen Partner Dependents  tenure  \\\n",
            "7038  6840-RESVB    Male              0     Yes        Yes      24   \n",
            "7039  2234-XADUH  Female              0     Yes        Yes      72   \n",
            "7040  4801-JZAZL  Female              0     Yes        Yes      11   \n",
            "7041  8361-LTMKD    Male              1     Yes         No       4   \n",
            "7042  3186-AJIEK    Male              0      No         No      66   \n",
            "\n",
            "     PhoneService     MultipleLines InternetService OnlineSecurity  \\\n",
            "7038          Yes               Yes             DSL            Yes   \n",
            "7039          Yes               Yes     Fiber optic             No   \n",
            "7040           No  No phone service             DSL            Yes   \n",
            "7041          Yes               Yes     Fiber optic             No   \n",
            "7042          Yes                No     Fiber optic            Yes   \n",
            "\n",
            "     OnlineBackup DeviceProtection TechSupport StreamingTV StreamingMovies  \\\n",
            "7038           No              Yes         Yes         Yes             Yes   \n",
            "7039          Yes              Yes          No         Yes             Yes   \n",
            "7040           No               No          No          No              No   \n",
            "7041           No               No          No          No              No   \n",
            "7042           No              Yes         Yes         Yes             Yes   \n",
            "\n",
            "            Contract PaperlessBilling              PaymentMethod  \\\n",
            "7038        One year              Yes               Mailed check   \n",
            "7039        One year              Yes    Credit card (automatic)   \n",
            "7040  Month-to-month              Yes           Electronic check   \n",
            "7041  Month-to-month              Yes               Mailed check   \n",
            "7042        Two year              Yes  Bank transfer (automatic)   \n",
            "\n",
            "      MonthlyCharges  TotalCharges  Churn  \n",
            "7038          84.800      1990.500      0  \n",
            "7039         103.200      7362.900      0  \n",
            "7040          29.600       346.450      0  \n",
            "7041          74.400       306.600      1  \n",
            "7042         105.650      6844.500      0  \n",
            "######################### Shape #########################\n",
            "(7043, 21)\n",
            "######################### Types #########################\n",
            "customerID           object\n",
            "gender               object\n",
            "SeniorCitizen         int64\n",
            "Partner              object\n",
            "Dependents           object\n",
            "tenure                int64\n",
            "PhoneService         object\n",
            "MultipleLines        object\n",
            "InternetService      object\n",
            "OnlineSecurity       object\n",
            "OnlineBackup         object\n",
            "DeviceProtection     object\n",
            "TechSupport          object\n",
            "StreamingTV          object\n",
            "StreamingMovies      object\n",
            "Contract             object\n",
            "PaperlessBilling     object\n",
            "PaymentMethod        object\n",
            "MonthlyCharges      float64\n",
            "TotalCharges        float64\n",
            "Churn                 int64\n",
            "dtype: object\n",
            "######################### NA #########################\n",
            "customerID           0\n",
            "gender               0\n",
            "SeniorCitizen        0\n",
            "Partner              0\n",
            "Dependents           0\n",
            "tenure               0\n",
            "PhoneService         0\n",
            "MultipleLines        0\n",
            "InternetService      0\n",
            "OnlineSecurity       0\n",
            "OnlineBackup         0\n",
            "DeviceProtection     0\n",
            "TechSupport          0\n",
            "StreamingTV          0\n",
            "StreamingMovies      0\n",
            "Contract             0\n",
            "PaperlessBilling     0\n",
            "PaymentMethod        0\n",
            "MonthlyCharges       0\n",
            "TotalCharges        11\n",
            "Churn                0\n",
            "dtype: int64\n",
            "######################### Qurtiles #########################\n",
            "                  count     mean      std    min     0%     5%      50%  \\\n",
            "SeniorCitizen  7043.000    0.162    0.369  0.000  0.000  0.000    0.000   \n",
            "tenure         7043.000   32.371   24.559  0.000  0.000  1.000   29.000   \n",
            "MonthlyCharges 7043.000   64.762   30.090 18.250 18.250 19.650   70.350   \n",
            "TotalCharges   7032.000 2283.300 2266.771 18.800 18.800 49.605 1397.475   \n",
            "Churn          7043.000    0.265    0.442  0.000  0.000  0.000    0.000   \n",
            "\n",
            "                    95%      99%     100%      max  \n",
            "SeniorCitizen     1.000    1.000    1.000    1.000  \n",
            "tenure           72.000   72.000   72.000   72.000  \n",
            "MonthlyCharges  107.400  114.729  118.750  118.750  \n",
            "TotalCharges   6923.590 8039.883 8684.800 8684.800  \n",
            "Churn             1.000    1.000    1.000    1.000  \n"
          ]
        }
      ]
    },
    {
      "cell_type": "markdown",
      "source": [
        "## Analysis of Categorical and Numerical Variables"
      ],
      "metadata": {
        "id": "RZwV2FhNPhWR"
      }
    },
    {
      "cell_type": "code",
      "source": [
        "def grab_col_names(dataframe, cat_th=10, car_th=20):\n",
        "  #Catgeorical Variable Selection\n",
        "  cat_cols = [col for col in dataframe.columns if str(dataframe[col].dtypes) in [\"category\",\"object\",\"bool\"]]\n",
        "  num_but_cat = [col for col in dataframe.columns if dataframe[col].nunique() < cat_th and dataframe[col].dtypes in [\"uint8\",\"int64\",\"float64\"]]\n",
        "  cat_but_car = [col for col in dataframe.columns if dataframe[col].nunique() > car_th and str(dataframe[col].dtypes) in [\"category\",\"object\"]]\n",
        "  cat_cols = cat_cols + num_but_cat\n",
        "  cat_cols = [col for col in cat_cols if col not in cat_but_car]\n",
        "\n",
        "  #Numerical Variable Selection\n",
        "  num_cols = [col for col in dataframe.columns if dataframe[col].dtypes in [\"uint8\",\"int64\",\"float64\"]]\n",
        "  num_cols = [col for col in num_cols if col not in cat_cols]\n",
        "\n",
        "  return cat_cols, num_cols, cat_but_car"
      ],
      "metadata": {
        "id": "BqfAClO_OuH9"
      },
      "execution_count": 12,
      "outputs": []
    },
    {
      "cell_type": "code",
      "source": [
        "cat_cols, num_cols, cat_but_car = grab_col_names(df)\n",
        "\n",
        "#Print Categorical and Numerical Variables\n",
        "print(f\"Observations: {df.shape[0]}\")\n",
        "print(f\"Variables: {df.shape[1]}\")\n",
        "print(f\"Cat_cols: {len(cat_cols)}\")\n",
        "print(f\"Num_cols: {len(num_cols)}\")\n",
        "print(f\"Cat_but_car: {len(cat_but_car)}\")"
      ],
      "metadata": {
        "colab": {
          "base_uri": "https://localhost:8080/"
        },
        "id": "iYKr_xNVPsea",
        "outputId": "0f7da619-6350-40a8-ca46-0ec379f4e266"
      },
      "execution_count": 13,
      "outputs": [
        {
          "output_type": "stream",
          "name": "stdout",
          "text": [
            "Observations: 7043\n",
            "Variables: 21\n",
            "Cat_cols: 17\n",
            "Num_cols: 3\n",
            "Cat_but_car: 1\n"
          ]
        }
      ]
    },
    {
      "cell_type": "code",
      "source": [
        "def cat_summary(dataframe,col_name,plot=False):\n",
        "  print(pd.DataFrame({col_name: dataframe[col_name].value_counts(),\n",
        "                      'Ration': 100 * dataframe[col_name].value_counts() / len(dataframe)}))\n",
        "  print(\"##########################################\")\n",
        "  if plot:\n",
        "    sns.countplot(x=dataframe[col_name],data=dataframe)\n",
        "    plt.show(block=True)"
      ],
      "metadata": {
        "id": "etpYKnF3PugC"
      },
      "execution_count": 14,
      "outputs": []
    },
    {
      "cell_type": "code",
      "source": [
        "def cat_summary_df(dataframe):\n",
        "  cat_cols, num_cols, cat_but_car = grab_col_names(df)\n",
        "  for col in cat_cols:\n",
        "    cat_summary(dataframe, col, plot=True)"
      ],
      "metadata": {
        "id": "I6OQUIfrQHIf"
      },
      "execution_count": 15,
      "outputs": []
    },
    {
      "cell_type": "code",
      "source": [
        "cat_summary_df(df)"
      ],
      "metadata": {
        "colab": {
          "base_uri": "https://localhost:8080/",
          "height": 1000
        },
        "id": "XWMmJ4YCQKv5",
        "outputId": "cd5b51cc-856b-4052-f68e-64900fbe5f64"
      },
      "execution_count": 16,
      "outputs": [
        {
          "output_type": "stream",
          "name": "stdout",
          "text": [
            "        gender  Ration\n",
            "Male      3555  50.476\n",
            "Female    3488  49.524\n",
            "##########################################\n"
          ]
        },
        {
          "output_type": "display_data",
          "data": {
            "text/plain": [
              "<Figure size 432x288 with 1 Axes>"
            ],
            "image/png": "[encoded data removed]"
          },
          "metadata": {
            "needs_background": "light"
          }
        },
        {
          "output_type": "stream",
          "name": "stdout",
          "text": [
            "     Partner  Ration\n",
            "No      3641  51.697\n",
            "Yes     3402  48.303\n",
            "##########################################\n"
          ]
        },
        {
          "output_type": "display_data",
          "data": {
            "text/plain": [
              "<Figure size 432x288 with 1 Axes>"
            ],
            "image/png": "[encoded data removed]"
          },
          "metadata": {
            "needs_background": "light"
          }
        },
        {
          "output_type": "stream",
          "name": "stdout",
          "text": [
            "     Dependents  Ration\n",
            "No         4933  70.041\n",
            "Yes        2110  29.959\n",
            "##########################################\n"
          ]
        },
        {
          "output_type": "display_data",
          "data": {
            "text/plain": [
              "<Figure size 432x288 with 1 Axes>"
            ],
            "image/png": "[encoded data removed]"
          },
          "metadata": {
            "needs_background": "light"
          }
        },
        {
          "output_type": "stream",
          "name": "stdout",
          "text": [
            "     PhoneService  Ration\n",
            "Yes          6361  90.317\n",
            "No            682   9.683\n",
            "##########################################\n"
          ]
        },
        {
          "output_type": "display_data",
          "data": {
            "text/plain": [
              "<Figure size 432x288 with 1 Axes>"
            ],
            "image/png": "[encoded data removed]"
          },
          "metadata": {
            "needs_background": "light"
          }
        },
        {
          "output_type": "stream",
          "name": "stdout",
          "text": [
            "                  MultipleLines  Ration\n",
            "No                         3390  48.133\n",
            "Yes                        2971  42.184\n",
            "No phone service            682   9.683\n",
            "##########################################\n"
          ]
        },
        {
          "output_type": "display_data",
          "data": {
            "text/plain": [
              "<Figure size 432x288 with 1 Axes>"
            ],
            "image/png": "[encoded data removed]"
          },
          "metadata": {
            "needs_background": "light"
          }
        },
        {
          "output_type": "stream",
          "name": "stdout",
          "text": [
            "             InternetService  Ration\n",
            "Fiber optic             3096  43.959\n",
            "DSL                     2421  34.375\n",
            "No                      1526  21.667\n",
            "##########################################\n"
          ]
        },
        {
          "output_type": "display_data",
          "data": {
            "text/plain": [
              "<Figure size 432x288 with 1 Axes>"
            ],
            "image/png": "[encoded data removed]"
          },
          "metadata": {
            "needs_background": "light"
          }
        },
        {
          "output_type": "stream",
          "name": "stdout",
          "text": [
            "                     OnlineSecurity  Ration\n",
            "No                             3498  49.666\n",
            "Yes                            2019  28.667\n",
            "No internet service            1526  21.667\n",
            "##########################################\n"
          ]
        },
        {
          "output_type": "display_data",
          "data": {
            "text/plain": [
              "<Figure size 432x288 with 1 Axes>"
            ],
            "image/png": "[encoded data removed]"
          },
          "metadata": {
            "needs_background": "light"
          }
        },
        {
          "output_type": "stream",
          "name": "stdout",
          "text": [
            "                     OnlineBackup  Ration\n",
            "No                           3088  43.845\n",
            "Yes                          2429  34.488\n",
            "No internet service          1526  21.667\n",
            "##########################################\n"
          ]
        },
        {
          "output_type": "display_data",
          "data": {
            "text/plain": [
              "<Figure size 432x288 with 1 Axes>"
            ],
            "image/png": "[encoded data removed]"
          },
          "metadata": {
            "needs_background": "light"
          }
        },
        {
          "output_type": "stream",
          "name": "stdout",
          "text": [
            "                     DeviceProtection  Ration\n",
            "No                               3095  43.944\n",
            "Yes                              2422  34.389\n",
            "No internet service              1526  21.667\n",
            "##########################################\n"
          ]
        },
        {
          "output_type": "display_data",
          "data": {
            "text/plain": [
              "<Figure size 432x288 with 1 Axes>"
            ],
            "image/png": "[encoded data removed]"
          },
          "metadata": {
            "needs_background": "light"
          }
        },
        {
          "output_type": "stream",
          "name": "stdout",
          "text": [
            "                     TechSupport  Ration\n",
            "No                          3473  49.311\n",
            "Yes                         2044  29.022\n",
            "No internet service         1526  21.667\n",
            "##########################################\n"
          ]
        },
        {
          "output_type": "display_data",
          "data": {
            "text/plain": [
              "<Figure size 432x288 with 1 Axes>"
            ],
            "image/png": "[encoded data removed]"
          },
          "metadata": {
            "needs_background": "light"
          }
        },
        {
          "output_type": "stream",
          "name": "stdout",
          "text": [
            "                     StreamingTV  Ration\n",
            "No                          2810  39.898\n",
            "Yes                         2707  38.435\n",
            "No internet service         1526  21.667\n",
            "##########################################\n"
          ]
        },
        {
          "output_type": "display_data",
          "data": {
            "text/plain": [
              "<Figure size 432x288 with 1 Axes>"
            ],
            "image/png": "[encoded data removed]"
          },
          "metadata": {
            "needs_background": "light"
          }
        },
        {
          "output_type": "stream",
          "name": "stdout",
          "text": [
            "                     StreamingMovies  Ration\n",
            "No                              2785  39.543\n",
            "Yes                             2732  38.790\n",
            "No internet service             1526  21.667\n",
            "##########################################\n"
          ]
        },
        {
          "output_type": "display_data",
          "data": {
            "text/plain": [
              "<Figure size 432x288 with 1 Axes>"
            ],
            "image/png": "[encoded data removed]"
          },
          "metadata": {
            "needs_background": "light"
          }
        },
        {
          "output_type": "stream",
          "name": "stdout",
          "text": [
            "                Contract  Ration\n",
            "Month-to-month      3875  55.019\n",
            "Two year            1695  24.066\n",
            "One year            1473  20.914\n",
            "##########################################\n"
          ]
        },
        {
          "output_type": "display_data",
          "data": {
            "text/plain": [
              "<Figure size 432x288 with 1 Axes>"
            ],
            "image/png": "[encoded data removed]"
          },
          "metadata": {
            "needs_background": "light"
          }
        },
        {
          "output_type": "stream",
          "name": "stdout",
          "text": [
            "     PaperlessBilling  Ration\n",
            "Yes              4171  59.222\n",
            "No               2872  40.778\n",
            "##########################################\n"
          ]
        },
        {
          "output_type": "display_data",
          "data": {
            "text/plain": [
              "<Figure size 432x288 with 1 Axes>"
            ],
            "image/png": "[encoded data removed]"
          },
          "metadata": {
            "needs_background": "light"
          }
        },
        {
          "output_type": "stream",
          "name": "stdout",
          "text": [
            "                           PaymentMethod  Ration\n",
            "Electronic check                    2365  33.579\n",
            "Mailed check                        1612  22.888\n",
            "Bank transfer (automatic)           1544  21.922\n",
            "Credit card (automatic)             1522  21.610\n",
            "##########################################\n"
          ]
        },
        {
          "output_type": "display_data",
          "data": {
            "text/plain": [
              "<Figure size 432x288 with 1 Axes>"
            ],
            "image/png": "[encoded data removed]"
          },
          "metadata": {
            "needs_background": "light"
          }
        },
        {
          "output_type": "stream",
          "name": "stdout",
          "text": [
            "   SeniorCitizen  Ration\n",
            "0           5901  83.785\n",
            "1           1142  16.215\n",
            "##########################################\n"
          ]
        },
        {
          "output_type": "display_data",
          "data": {
            "text/plain": [
              "<Figure size 432x288 with 1 Axes>"
            ],
            "image/png": "[encoded data removed]"
          },
          "metadata": {
            "needs_background": "light"
          }
        },
        {
          "output_type": "stream",
          "name": "stdout",
          "text": [
            "   Churn  Ration\n",
            "0   5174  73.463\n",
            "1   1869  26.537\n",
            "##########################################\n"
          ]
        },
        {
          "output_type": "display_data",
          "data": {
            "text/plain": [
              "<Figure size 432x288 with 1 Axes>"
            ],
            "image/png": "[encoded data removed]"
          },
          "metadata": {
            "needs_background": "light"
          }
        }
      ]
    },
    {
      "cell_type": "code",
      "source": [
        "def num_summary(dataframe, num_col, plot=False):\n",
        "  quantiles = [0.01, 0.05, 0.10, 0.20, 0.30, 0.40, 0.50, 0.60, 0.70, 0.80, 0.90, 0.95, 0.99]\n",
        "  print(dataframe[num_col].describe(quantiles).T)\n",
        "\n",
        "  if plot:\n",
        "    dataframe[num_col].hist(bins=20)\n",
        "    plt.xlabel(num_col)\n",
        "    plt.title(num_col)\n",
        "    plt.show(block=True)"
      ],
      "metadata": {
        "id": "q_W0V8SpQM4w"
      },
      "execution_count": 17,
      "outputs": []
    },
    {
      "cell_type": "code",
      "source": [
        "def num_summary_df(dataframe):\n",
        "  cat_cols, num_cols, cat_but_car = grab_col_names(df)\n",
        "  for col in num_cols:\n",
        "    num_summary(dataframe, col, plot=True)"
      ],
      "metadata": {
        "id": "4roTIg_lQZdS"
      },
      "execution_count": 18,
      "outputs": []
    },
    {
      "cell_type": "code",
      "source": [
        "num_summary_df(df)"
      ],
      "metadata": {
        "colab": {
          "base_uri": "https://localhost:8080/",
          "height": 1000
        },
        "id": "rSbldkcqQa2N",
        "outputId": "e13829c6-7750-4e32-fb11-f3f57bf2886b"
      },
      "execution_count": 19,
      "outputs": [
        {
          "output_type": "stream",
          "name": "stdout",
          "text": [
            "count   7043.000\n",
            "mean      32.371\n",
            "std       24.559\n",
            "min        0.000\n",
            "1%         1.000\n",
            "5%         1.000\n",
            "10%        2.000\n",
            "20%        6.000\n",
            "30%       12.000\n",
            "40%       20.000\n",
            "50%       29.000\n",
            "60%       40.000\n",
            "70%       50.000\n",
            "80%       60.000\n",
            "90%       69.000\n",
            "95%       72.000\n",
            "99%       72.000\n",
            "max       72.000\n",
            "Name: tenure, dtype: float64\n"
          ]
        },
        {
          "output_type": "display_data",
          "data": {
            "text/plain": [
              "<Figure size 432x288 with 1 Axes>"
            ],
            "image/png": "[encoded data removed]"
          },
          "metadata": {
            "needs_background": "light"
          }
        },
        {
          "output_type": "stream",
          "name": "stdout",
          "text": [
            "count   7043.000\n",
            "mean      64.762\n",
            "std       30.090\n",
            "min       18.250\n",
            "1%        19.200\n",
            "5%        19.650\n",
            "10%       20.050\n",
            "20%       25.050\n",
            "30%       45.850\n",
            "40%       58.830\n",
            "50%       70.350\n",
            "60%       79.100\n",
            "70%       85.500\n",
            "80%       94.250\n",
            "90%      102.600\n",
            "95%      107.400\n",
            "99%      114.729\n",
            "max      118.750\n",
            "Name: MonthlyCharges, dtype: float64\n"
          ]
        },
        {
          "output_type": "display_data",
          "data": {
            "text/plain": [
              "<Figure size 432x288 with 1 Axes>"
            ],
            "image/png": "[encoded data removed]"
          },
          "metadata": {
            "needs_background": "light"
          }
        },
        {
          "output_type": "stream",
          "name": "stdout",
          "text": [
            "count   7032.000\n",
            "mean    2283.300\n",
            "std     2266.771\n",
            "min       18.800\n",
            "1%        19.900\n",
            "5%        49.605\n",
            "10%       84.600\n",
            "20%      267.070\n",
            "30%      551.995\n",
            "40%      944.170\n",
            "50%     1397.475\n",
            "60%     2048.950\n",
            "70%     3141.130\n",
            "80%     4475.410\n",
            "90%     5976.640\n",
            "95%     6923.590\n",
            "99%     8039.883\n",
            "max     8684.800\n",
            "Name: TotalCharges, dtype: float64\n"
          ]
        },
        {
          "output_type": "display_data",
          "data": {
            "text/plain": [
              "<Figure size 432x288 with 1 Axes>"
            ],
            "image/png": "[encoded data removed]"
          },
          "metadata": {
            "needs_background": "light"
          }
        }
      ]
    },
    {
      "cell_type": "code",
      "source": [
        "def target_summary_with_num(dataframe, target, numerical_col):\n",
        "  print(dataframe.groupby(target).agg({numerical_col: \"mean\"}))\n",
        "  print(\"#############################################\")"
      ],
      "metadata": {
        "id": "11ZK9YDrQdOc"
      },
      "execution_count": 20,
      "outputs": []
    },
    {
      "cell_type": "code",
      "source": [
        "def target_summary_with_num_df(dataframe, target):\n",
        "  cat_cols, num_cols, cat_but_car = grab_col_names(df)\n",
        "  for col in num_cols:\n",
        "    target_summary_with_num(dataframe, target, col)"
      ],
      "metadata": {
        "id": "2Ax64z54QxVF"
      },
      "execution_count": 21,
      "outputs": []
    },
    {
      "cell_type": "code",
      "source": [
        "target_summary_with_num_df(df, \"Churn\")"
      ],
      "metadata": {
        "colab": {
          "base_uri": "https://localhost:8080/"
        },
        "id": "hcjYddkGQzYn",
        "outputId": "04a06441-a5c6-4955-bdca-5f332f991a75"
      },
      "execution_count": 22,
      "outputs": [
        {
          "output_type": "stream",
          "name": "stdout",
          "text": [
            "       tenure\n",
            "Churn        \n",
            "0      37.570\n",
            "1      17.979\n",
            "#############################################\n",
            "       MonthlyCharges\n",
            "Churn                \n",
            "0              61.265\n",
            "1              74.441\n",
            "#############################################\n",
            "       TotalCharges\n",
            "Churn              \n",
            "0          2555.344\n",
            "1          1531.796\n",
            "#############################################\n"
          ]
        }
      ]
    },
    {
      "cell_type": "code",
      "source": [
        "def target_summary_with_cat(dataframe, target, categorical_col):\n",
        "  print(categorical_col)\n",
        "  print(pd.DataFrame({\"TARGET_MEAN\": dataframe.groupby(categorical_col)[target].mean(),\n",
        "                      \"Count\": dataframe[categorical_col].value_counts(),\n",
        "                      \"Ratio\": 100 * dataframe[categorical_col].value_counts() / len(dataframe)}))\n",
        "  print(\"#############################################\")"
      ],
      "metadata": {
        "id": "S6Xp_F8UQ4an"
      },
      "execution_count": 35,
      "outputs": []
    },
    {
      "cell_type": "code",
      "source": [
        "def target_summary_with_cat_df(dataframe, target):\n",
        "  cat_cols, num_cols, cat_but_car = grab_col_names(df)\n",
        "  for col in cat_cols:\n",
        "    target_summary_with_cat(dataframe, target, col)"
      ],
      "metadata": {
        "id": "gx4560tYSSUp"
      },
      "execution_count": 36,
      "outputs": []
    },
    {
      "cell_type": "code",
      "source": [
        "target_summary_with_cat_df(df, \"Churn\")"
      ],
      "metadata": {
        "colab": {
          "base_uri": "https://localhost:8080/"
        },
        "id": "KkViFC5WShoR",
        "outputId": "1d484a2a-140d-4219-d7d2-99beacb4d450"
      },
      "execution_count": 37,
      "outputs": [
        {
          "output_type": "stream",
          "name": "stdout",
          "text": [
            "gender\n",
            "        TARGET_MEAN  Count  Ratio\n",
            "Female        0.269   3488 49.524\n",
            "Male          0.262   3555 50.476\n",
            "#############################################\n",
            "Partner\n",
            "     TARGET_MEAN  Count  Ratio\n",
            "No         0.330   3641 51.697\n",
            "Yes        0.197   3402 48.303\n",
            "#############################################\n",
            "Dependents\n",
            "     TARGET_MEAN  Count  Ratio\n",
            "No         0.313   4933 70.041\n",
            "Yes        0.155   2110 29.959\n",
            "#############################################\n",
            "PhoneService\n",
            "     TARGET_MEAN  Count  Ratio\n",
            "No         0.249    682  9.683\n",
            "Yes        0.267   6361 90.317\n",
            "#############################################\n",
            "MultipleLines\n",
            "                  TARGET_MEAN  Count  Ratio\n",
            "No                      0.250   3390 48.133\n",
            "No phone service        0.249    682  9.683\n",
            "Yes                     0.286   2971 42.184\n",
            "#############################################\n",
            "InternetService\n",
            "             TARGET_MEAN  Count  Ratio\n",
            "DSL                0.190   2421 34.375\n",
            "Fiber optic        0.419   3096 43.959\n",
            "No                 0.074   1526 21.667\n",
            "#############################################\n",
            "OnlineSecurity\n",
            "                     TARGET_MEAN  Count  Ratio\n",
            "No                         0.418   3498 49.666\n",
            "No internet service        0.074   1526 21.667\n",
            "Yes                        0.146   2019 28.667\n",
            "#############################################\n",
            "OnlineBackup\n",
            "                     TARGET_MEAN  Count  Ratio\n",
            "No                         0.399   3088 43.845\n",
            "No internet service        0.074   1526 21.667\n",
            "Yes                        0.215   2429 34.488\n",
            "#############################################\n",
            "DeviceProtection\n",
            "                     TARGET_MEAN  Count  Ratio\n",
            "No                         0.391   3095 43.944\n",
            "No internet service        0.074   1526 21.667\n",
            "Yes                        0.225   2422 34.389\n",
            "#############################################\n",
            "TechSupport\n",
            "                     TARGET_MEAN  Count  Ratio\n",
            "No                         0.416   3473 49.311\n",
            "No internet service        0.074   1526 21.667\n",
            "Yes                        0.152   2044 29.022\n",
            "#############################################\n",
            "StreamingTV\n",
            "                     TARGET_MEAN  Count  Ratio\n",
            "No                         0.335   2810 39.898\n",
            "No internet service        0.074   1526 21.667\n",
            "Yes                        0.301   2707 38.435\n",
            "#############################################\n",
            "StreamingMovies\n",
            "                     TARGET_MEAN  Count  Ratio\n",
            "No                         0.337   2785 39.543\n",
            "No internet service        0.074   1526 21.667\n",
            "Yes                        0.299   2732 38.790\n",
            "#############################################\n",
            "Contract\n",
            "                TARGET_MEAN  Count  Ratio\n",
            "Month-to-month        0.427   3875 55.019\n",
            "One year              0.113   1473 20.914\n",
            "Two year              0.028   1695 24.066\n",
            "#############################################\n",
            "PaperlessBilling\n",
            "     TARGET_MEAN  Count  Ratio\n",
            "No         0.163   2872 40.778\n",
            "Yes        0.336   4171 59.222\n",
            "#############################################\n",
            "PaymentMethod\n",
            "                           TARGET_MEAN  Count  Ratio\n",
            "Bank transfer (automatic)        0.167   1544 21.922\n",
            "Credit card (automatic)          0.152   1522 21.610\n",
            "Electronic check                 0.453   2365 33.579\n",
            "Mailed check                     0.191   1612 22.888\n",
            "#############################################\n",
            "SeniorCitizen\n",
            "   TARGET_MEAN  Count  Ratio\n",
            "0        0.236   5901 83.785\n",
            "1        0.417   1142 16.215\n",
            "#############################################\n",
            "Churn\n",
            "   TARGET_MEAN  Count  Ratio\n",
            "0        0.000   5174 73.463\n",
            "1        1.000   1869 26.537\n",
            "#############################################\n"
          ]
        }
      ]
    },
    {
      "cell_type": "markdown",
      "source": [
        "## Correlation Analysis"
      ],
      "metadata": {
        "id": "5KYOf1kvTyEj"
      }
    },
    {
      "cell_type": "code",
      "source": [
        "df[num_cols].corr()"
      ],
      "metadata": {
        "colab": {
          "base_uri": "https://localhost:8080/",
          "height": 143
        },
        "id": "xUFGKyjJSkCG",
        "outputId": "f5694f3d-e614-4414-b743-a5b51ea35533"
      },
      "execution_count": 38,
      "outputs": [
        {
          "output_type": "execute_result",
          "data": {
            "text/plain": [
              "                tenure  MonthlyCharges  TotalCharges\n",
              "tenure           1.000           0.248         0.826\n",
              "MonthlyCharges   0.248           1.000         0.651\n",
              "TotalCharges     0.826           0.651         1.000"
            ],
            "text/html": [
              "\n",
              "  <div id=\"df-6c5bc584-80ce-4d78-bb5f-d9eb06655a19\">\n",
              "    <div class=\"colab-df-container\">\n",
              "      <div>\n",
              "<style scoped>\n",
              "    .dataframe tbody tr th:only-of-type {\n",
              "        vertical-align: middle;\n",
              "    }\n",
              "\n",
              "    .dataframe tbody tr th {\n",
              "        vertical-align: top;\n",
              "    }\n",
              "\n",
              "    .dataframe thead th {\n",
              "        text-align: right;\n",
              "    }\n",
              "</style>\n",
              "<table border=\"1\" class=\"dataframe\">\n",
              "  <thead>\n",
              "    <tr style=\"text-align: right;\">\n",
              "      <th></th>\n",
              "      <th>tenure</th>\n",
              "      <th>MonthlyCharges</th>\n",
              "      <th>TotalCharges</th>\n",
              "    </tr>\n",
              "  </thead>\n",
              "  <tbody>\n",
              "    <tr>\n",
              "      <th>tenure</th>\n",
              "      <td>1.000</td>\n",
              "      <td>0.248</td>\n",
              "      <td>0.826</td>\n",
              "    </tr>\n",
              "    <tr>\n",
              "      <th>MonthlyCharges</th>\n",
              "      <td>0.248</td>\n",
              "      <td>1.000</td>\n",
              "      <td>0.651</td>\n",
              "    </tr>\n",
              "    <tr>\n",
              "      <th>TotalCharges</th>\n",
              "      <td>0.826</td>\n",
              "      <td>0.651</td>\n",
              "      <td>1.000</td>\n",
              "    </tr>\n",
              "  </tbody>\n",
              "</table>\n",
              "</div>\n",
              "      <button class=\"colab-df-convert\" onclick=\"convertToInteractive('df-6c5bc584-80ce-4d78-bb5f-d9eb06655a19')\"\n",
              "              title=\"Convert this dataframe to an interactive table.\"\n",
              "              style=\"display:none;\">\n",
              "        \n",
              "  <svg xmlns=\"http://www.w3.org/2000/svg\" height=\"24px\"viewBox=\"0 0 24 24\"\n",
              "       width=\"24px\">\n",
              "    <path d=\"M0 0h24v24H0V0z\" fill=\"none\"/>\n",
              "    <path d=\"M18.56 5.44l.94 2.06.94-2.06 2.06-.94-2.06-.94-.94-2.06-.94 2.06-2.06.94zm-11 1L8.5 8.5l.94-2.06 2.06-.94-2.06-.94L8.5 2.5l-.94 2.06-2.06.94zm10 10l.94 2.06.94-2.06 2.06-.94-2.06-.94-.94-2.06-.94 2.06-2.06.94z\"/><path d=\"M17.41 7.96l-1.37-1.37c-.4-.4-.92-.59-1.43-.59-.52 0-1.04.2-1.43.59L10.3 9.45l-7.72 7.72c-.78.78-.78 2.05 0 2.83L4 21.41c.39.39.9.59 1.41.59.51 0 1.02-.2 1.41-.59l7.78-7.78 2.81-2.81c.8-.78.8-2.07 0-2.86zM5.41 20L4 18.59l7.72-7.72 1.47 1.35L5.41 20z\"/>\n",
              "  </svg>\n",
              "      </button>\n",
              "      \n",
              "  <style>\n",
              "    .colab-df-container {\n",
              "      display:flex;\n",
              "      flex-wrap:wrap;\n",
              "      gap: 12px;\n",
              "    }\n",
              "\n",
              "    .colab-df-convert {\n",
              "      background-color: #E8F0FE;\n",
              "      border: none;\n",
              "      border-radius: 50%;\n",
              "      cursor: pointer;\n",
              "      display: none;\n",
              "      fill: #1967D2;\n",
              "      height: 32px;\n",
              "      padding: 0 0 0 0;\n",
              "      width: 32px;\n",
              "    }\n",
              "\n",
              "    .colab-df-convert:hover {\n",
              "      background-color: #E2EBFA;\n",
              "      box-shadow: 0px 1px 2px rgba(60, 64, 67, 0.3), 0px 1px 3px 1px rgba(60, 64, 67, 0.15);\n",
              "      fill: #174EA6;\n",
              "    }\n",
              "\n",
              "    [theme=dark] .colab-df-convert {\n",
              "      background-color: #3B4455;\n",
              "      fill: #D2E3FC;\n",
              "    }\n",
              "\n",
              "    [theme=dark] .colab-df-convert:hover {\n",
              "      background-color: #434B5C;\n",
              "      box-shadow: 0px 1px 3px 1px rgba(0, 0, 0, 0.15);\n",
              "      filter: drop-shadow(0px 1px 2px rgba(0, 0, 0, 0.3));\n",
              "      fill: #FFFFFF;\n",
              "    }\n",
              "  </style>\n",
              "\n",
              "      <script>\n",
              "        const buttonEl =\n",
              "          document.querySelector('#df-6c5bc584-80ce-4d78-bb5f-d9eb06655a19 button.colab-df-convert');\n",
              "        buttonEl.style.display =\n",
              "          google.colab.kernel.accessAllowed ? 'block' : 'none';\n",
              "\n",
              "        async function convertToInteractive(key) {\n",
              "          const element = document.querySelector('#df-6c5bc584-80ce-4d78-bb5f-d9eb06655a19');\n",
              "          const dataTable =\n",
              "            await google.colab.kernel.invokeFunction('convertToInteractive',\n",
              "                                                     [key], {});\n",
              "          if (!dataTable) return;\n",
              "\n",
              "          const docLinkHtml = 'Like what you see? Visit the ' +\n",
              "            '<a target=\"_blank\" href=https://colab.research.google.com/notebooks/data_table.ipynb>data table notebook</a>'\n",
              "            + ' to learn more about interactive tables.';\n",
              "          element.innerHTML = '';\n",
              "          dataTable['output_type'] = 'display_data';\n",
              "          await google.colab.output.renderOutput(dataTable, element);\n",
              "          const docLink = document.createElement('div');\n",
              "          docLink.innerHTML = docLinkHtml;\n",
              "          element.appendChild(docLink);\n",
              "        }\n",
              "      </script>\n",
              "    </div>\n",
              "  </div>\n",
              "  "
            ]
          },
          "metadata": {},
          "execution_count": 38
        }
      ]
    },
    {
      "cell_type": "code",
      "source": [
        "f, ax = plt.subplots(figsize=[18, 13])\n",
        "sns.heatmap(df[num_cols].corr(), annot=True, fmt=\".2f\", ax=ax, cmap=\"magma\")\n",
        "ax.set_title(\"Correlation Matrix\", fontsize=20)\n",
        "plt.show()"
      ],
      "metadata": {
        "colab": {
          "base_uri": "https://localhost:8080/",
          "height": 776
        },
        "id": "ScUIBGJTT2Tk",
        "outputId": "01ab20ed-3365-4fb7-8906-73275b2fe0b6"
      },
      "execution_count": 39,
      "outputs": [
        {
          "output_type": "display_data",
          "data": {
            "text/plain": [
              "<Figure size 1296x936 with 2 Axes>"
            ],
            "image/png": "[encoded data removed]"
          },
          "metadata": {
            "needs_background": "light"
          }
        }
      ]
    },
    {
      "cell_type": "code",
      "source": [
        "def high_correlated_cols(dataframe, plot=False, corr_th = 0.90):\n",
        "  corr = dataframe.corr()\n",
        "  corr_matrix = corr.abs()\n",
        "  upper_triangle_matrix = corr_matrix.where(np.triu(np.ones(corr_matrix.shape),k=1).astype(np.bool))\n",
        "  drop_list = [col for col in upper_triangle_matrix.columns if any(upper_triangle_matrix[col] > corr_th)]\n",
        "\n",
        "  if drop_list == []:\n",
        "    print(\"############## After Correlation Analysis, You Don't Need to Remove Variables ##############\")\n",
        "\n",
        "  if plot:\n",
        "    sns.set(rc = {'figure.figsize':(18,13)})\n",
        "    sns.heatmap(corr, cmap=\"RdBu\")\n",
        "    plt.show()\n",
        "  return drop_list"
      ],
      "metadata": {
        "id": "kFEraLEaUd6b"
      },
      "execution_count": 40,
      "outputs": []
    },
    {
      "cell_type": "code",
      "source": [
        "high_correlated_cols(df[num_cols], plot=True)"
      ],
      "metadata": {
        "colab": {
          "base_uri": "https://localhost:8080/",
          "height": 796
        },
        "id": "tmQz7jxsUka4",
        "outputId": "fc4d72f7-5f9e-4f80-f2d2-eff6526f6db2"
      },
      "execution_count": 42,
      "outputs": [
        {
          "output_type": "stream",
          "name": "stdout",
          "text": [
            "############## After Correlation Analysis, You Don't Need to Remove Variables ##############\n"
          ]
        },
        {
          "output_type": "display_data",
          "data": {
            "text/plain": [
              "<Figure size 1296x936 with 2 Axes>"
            ],
            "image/png": "[encoded data removed]"
          },
          "metadata": {}
        },
        {
          "output_type": "execute_result",
          "data": {
            "text/plain": [
              "[]"
            ]
          },
          "metadata": {},
          "execution_count": 42
        }
      ]
    },
    {
      "cell_type": "code",
      "source": [
        "df.corrwith(df[\"Churn\"]).sort_values(ascending=False)"
      ],
      "metadata": {
        "colab": {
          "base_uri": "https://localhost:8080/"
        },
        "id": "I3eOS7_bUpgR",
        "outputId": "d7affd37-cadb-4b73-8076-aa59cf82e70c"
      },
      "execution_count": 43,
      "outputs": [
        {
          "output_type": "execute_result",
          "data": {
            "text/plain": [
              "Churn             1.000\n",
              "MonthlyCharges    0.193\n",
              "SeniorCitizen     0.151\n",
              "TotalCharges     -0.199\n",
              "tenure           -0.352\n",
              "dtype: float64"
            ]
          },
          "metadata": {},
          "execution_count": 43
        }
      ]
    },
    {
      "cell_type": "markdown",
      "source": [
        "# Feature Engineering"
      ],
      "metadata": {
        "id": "wo34L6ILZPqS"
      }
    },
    {
      "cell_type": "markdown",
      "source": [
        "## Missing Value Analysis"
      ],
      "metadata": {
        "id": "dfC4z6KwZT1j"
      }
    },
    {
      "cell_type": "code",
      "source": [
        "df.isnull().sum()"
      ],
      "metadata": {
        "colab": {
          "base_uri": "https://localhost:8080/"
        },
        "id": "w8O5pNTXU8jx",
        "outputId": "644fe803-6af3-445d-f0e5-76dcceddf853"
      },
      "execution_count": 44,
      "outputs": [
        {
          "output_type": "execute_result",
          "data": {
            "text/plain": [
              "customerID           0\n",
              "gender               0\n",
              "SeniorCitizen        0\n",
              "Partner              0\n",
              "Dependents           0\n",
              "tenure               0\n",
              "PhoneService         0\n",
              "MultipleLines        0\n",
              "InternetService      0\n",
              "OnlineSecurity       0\n",
              "OnlineBackup         0\n",
              "DeviceProtection     0\n",
              "TechSupport          0\n",
              "StreamingTV          0\n",
              "StreamingMovies      0\n",
              "Contract             0\n",
              "PaperlessBilling     0\n",
              "PaymentMethod        0\n",
              "MonthlyCharges       0\n",
              "TotalCharges        11\n",
              "Churn                0\n",
              "dtype: int64"
            ]
          },
          "metadata": {},
          "execution_count": 44
        }
      ]
    },
    {
      "cell_type": "code",
      "source": [
        "def missing_value_table(dataframe, na_name=False):\n",
        "  na_columns = [col for col in dataframe.columns if dataframe[col].isnull().sum() > 0]\n",
        "  n_miss = dataframe[na_columns].isnull().sum().sort_values(ascending=False)\n",
        "  ratio = (dataframe[na_columns].isnull().sum() / dataframe.shape[0] * 100).sort_values(ascending=False)\n",
        "  missing_df = pd.concat([n_miss, np.round(ratio, 2)], axis=1, keys=[\"n_miss\",\"ratio\"])\n",
        "  print(missing_df, end=\"\\n\")\n",
        "  if na_name:\n",
        "    return na_columns"
      ],
      "metadata": {
        "id": "NI5FbGUTZXfh"
      },
      "execution_count": 45,
      "outputs": []
    },
    {
      "cell_type": "code",
      "source": [
        "na_columns = missing_value_table(df, na_name=True)"
      ],
      "metadata": {
        "colab": {
          "base_uri": "https://localhost:8080/"
        },
        "id": "vuQy6VqyZgTM",
        "outputId": "effe63bc-8808-4132-a821-838a1b576774"
      },
      "execution_count": 46,
      "outputs": [
        {
          "output_type": "stream",
          "name": "stdout",
          "text": [
            "              n_miss  ratio\n",
            "TotalCharges      11  0.160\n"
          ]
        }
      ]
    },
    {
      "cell_type": "code",
      "source": [
        "df[\"TotalCharges\"].fillna(df[\"TotalCharges\"].median(), inplace=True)"
      ],
      "metadata": {
        "id": "E8uaS_g4Z0rk"
      },
      "execution_count": 50,
      "outputs": []
    },
    {
      "cell_type": "code",
      "source": [
        "df.isnull().sum()"
      ],
      "metadata": {
        "colab": {
          "base_uri": "https://localhost:8080/"
        },
        "id": "oWnH1M7naaAt",
        "outputId": "2a3035e6-c7e2-49cb-86d0-b02d1aad99da"
      },
      "execution_count": 51,
      "outputs": [
        {
          "output_type": "execute_result",
          "data": {
            "text/plain": [
              "customerID          0\n",
              "gender              0\n",
              "SeniorCitizen       0\n",
              "Partner             0\n",
              "Dependents          0\n",
              "tenure              0\n",
              "PhoneService        0\n",
              "MultipleLines       0\n",
              "InternetService     0\n",
              "OnlineSecurity      0\n",
              "OnlineBackup        0\n",
              "DeviceProtection    0\n",
              "TechSupport         0\n",
              "StreamingTV         0\n",
              "StreamingMovies     0\n",
              "Contract            0\n",
              "PaperlessBilling    0\n",
              "PaymentMethod       0\n",
              "MonthlyCharges      0\n",
              "TotalCharges        0\n",
              "Churn               0\n",
              "dtype: int64"
            ]
          },
          "metadata": {},
          "execution_count": 51
        }
      ]
    },
    {
      "cell_type": "markdown",
      "source": [
        "## Base Model Setup\n"
      ],
      "metadata": {
        "id": "evyMW2SvalLB"
      }
    },
    {
      "cell_type": "code",
      "source": [
        "dff = df.copy()\n",
        "cat_cols = [col for col in cat_cols if col not in [\"Churn\"]]\n",
        "cat_cols"
      ],
      "metadata": {
        "colab": {
          "base_uri": "https://localhost:8080/"
        },
        "id": "E8aj1f0HadFz",
        "outputId": "e64f37f2-0f79-4749-c5af-030ebfa6b262"
      },
      "execution_count": 52,
      "outputs": [
        {
          "output_type": "execute_result",
          "data": {
            "text/plain": [
              "['gender',\n",
              " 'Partner',\n",
              " 'Dependents',\n",
              " 'PhoneService',\n",
              " 'MultipleLines',\n",
              " 'InternetService',\n",
              " 'OnlineSecurity',\n",
              " 'OnlineBackup',\n",
              " 'DeviceProtection',\n",
              " 'TechSupport',\n",
              " 'StreamingTV',\n",
              " 'StreamingMovies',\n",
              " 'Contract',\n",
              " 'PaperlessBilling',\n",
              " 'PaymentMethod',\n",
              " 'SeniorCitizen']"
            ]
          },
          "metadata": {},
          "execution_count": 52
        }
      ]
    },
    {
      "cell_type": "code",
      "source": [
        "def one_hot_encoder(dataframe, categorical_cols, drop_first=False):\n",
        "    dataframe = pd.get_dummies(dataframe, columns=categorical_cols, drop_first=drop_first)\n",
        "    return dataframe\n",
        "dff = one_hot_encoder(dff, cat_cols, drop_first=True)"
      ],
      "metadata": {
        "id": "k0ffZUPMbY04"
      },
      "execution_count": 53,
      "outputs": []
    },
    {
      "cell_type": "code",
      "source": [
        "y = dff[\"Churn\"]\n",
        "X = dff.drop([\"Churn\",\"customerID\"], axis=1)\n",
        "\n",
        "X_train, X_test, y_train, y_test = train_test_split(X, y, test_size=0.30, random_state=17)\n",
        "\n",
        "catboost_model = CatBoostClassifier(verbose=False, random_state=46).fit(X_train, y_train)\n",
        "y_pred = catboost_model.predict(X_test)\n",
        "\n",
        "\n",
        "print(f\"Accuracy: {round(accuracy_score(y_pred, y_test), 4)}\")\n",
        "print(f\"Recall: {round(recall_score(y_pred,y_test),4)}\")\n",
        "print(f\"Precision: {round(precision_score(y_pred,y_test), 4)}\")\n",
        "print(f\"F1: {round(f1_score(y_pred,y_test), 4)}\")\n",
        "print(f\"Auc: {round(roc_auc_score(y_pred,y_test), 4)}\")"
      ],
      "metadata": {
        "colab": {
          "base_uri": "https://localhost:8080/"
        },
        "id": "bmtfS_Vjbjmu",
        "outputId": "04f10718-6742-429c-824b-9b5cbbd134db"
      },
      "execution_count": 54,
      "outputs": [
        {
          "output_type": "stream",
          "name": "stdout",
          "text": [
            "Accuracy: 0.7875\n",
            "Recall: 0.6386\n",
            "Precision: 0.5017\n",
            "F1: 0.562\n",
            "Auc: 0.7332\n"
          ]
        }
      ]
    },
    {
      "cell_type": "code",
      "source": [
        "def plot_importance(model, features, num=len(X), save=False):\n",
        "    feature_imp = pd.DataFrame({'Value': model.feature_importances_, 'Feature': features.columns})\n",
        "    plt.figure(figsize=(10, 10))\n",
        "    sns.set(font_scale=1)\n",
        "    sns.barplot(x=\"Value\", y=\"Feature\", data=feature_imp.sort_values(by=\"Value\", ascending=False)[0:num])\n",
        "    plt.title('Features')\n",
        "    plt.tight_layout()\n",
        "    plt.show()\n",
        "    if save:\n",
        "        plt.savefig('importances.png')"
      ],
      "metadata": {
        "id": "thH2E6yybw6R"
      },
      "execution_count": 55,
      "outputs": []
    },
    {
      "cell_type": "code",
      "source": [
        "plot_importance(catboost_model, X)"
      ],
      "metadata": {
        "colab": {
          "base_uri": "https://localhost:8080/",
          "height": 725
        },
        "id": "dD6yuSgTb6ko",
        "outputId": "7cf920a4-5bba-4e43-dcbb-4d980cfcba8c"
      },
      "execution_count": 57,
      "outputs": [
        {
          "output_type": "display_data",
          "data": {
            "text/plain": [
              "<Figure size 720x720 with 1 Axes>"
            ],
            "image/png": "[encoded data removed]"
          },
          "metadata": {}
        }
      ]
    },
    {
      "cell_type": "markdown",
      "source": [
        "## Outlier Analysis"
      ],
      "metadata": {
        "id": "SL458a5yc4yI"
      }
    },
    {
      "cell_type": "code",
      "source": [
        "def outlier_thresholds(dataframe,col_name,q1=0.05,q3=0.95):\n",
        "  quartile1 = dataframe[col_name].quantile(q1)\n",
        "  quartile3 = dataframe[col_name].quantile(q3)\n",
        "  interquartile_range = quartile3 - quartile1\n",
        "  low_limit = quartile1 - 1.5 * interquartile_range\n",
        "  up_limit = quartile3 + 1.5 * interquartile_range\n",
        "  return low_limit,up_limit"
      ],
      "metadata": {
        "id": "1NmJpBSbb9IT"
      },
      "execution_count": 58,
      "outputs": []
    },
    {
      "cell_type": "code",
      "source": [
        "def check_outlier(dataframe, col_name):\n",
        "  low_limit,up_limit = outlier_thresholds(dataframe,col_name)\n",
        "  if dataframe[(dataframe[col_name] > up_limit) | (dataframe[col_name] < low_limit)].any(axis=None):\n",
        "    return True\n",
        "  else:\n",
        "    return False"
      ],
      "metadata": {
        "id": "elWvLB2oc7VR"
      },
      "execution_count": 59,
      "outputs": []
    },
    {
      "cell_type": "code",
      "source": [
        "def replace_with_thresholds(dataframe, col_name):\n",
        "  low_limit, up_limit = outlier_thresholds(dataframe, col_name)\n",
        "  dataframe.loc[(dataframe[col_name] < low_limit), col_name] = low_limit\n",
        "  dataframe.loc[(dataframe[col_name] > up_limit), col_name] = up_limit"
      ],
      "metadata": {
        "id": "JsyJpbgIc9qo"
      },
      "execution_count": 60,
      "outputs": []
    },
    {
      "cell_type": "code",
      "source": [
        "for col in num_cols:\n",
        "  print(col, check_outlier(df, col))\n",
        "  if check_outlier(df, col):\n",
        "    replace_with_thresholds(df, col)"
      ],
      "metadata": {
        "colab": {
          "base_uri": "https://localhost:8080/"
        },
        "id": "gO1_eCBZdCem",
        "outputId": "b60554e3-9aa0-4716-ed05-72cb90efbefe"
      },
      "execution_count": 63,
      "outputs": [
        {
          "output_type": "stream",
          "name": "stdout",
          "text": [
            "tenure False\n",
            "MonthlyCharges False\n",
            "TotalCharges False\n"
          ]
        }
      ]
    },
    {
      "cell_type": "markdown",
      "source": [
        "## Feature Extraction"
      ],
      "metadata": {
        "id": "T0TLs5HzeETQ"
      }
    },
    {
      "cell_type": "code",
      "source": [
        "df.loc[(df[\"tenure\"]>=0) & (df[\"tenure\"]<=12),\"NEW_TENURE_YEAR\"] = \"0-1 Year\"\n",
        "df.loc[(df[\"tenure\"]>12) & (df[\"tenure\"]<=24),\"NEW_TENURE_YEAR\"] = \"1-2 Year\"\n",
        "df.loc[(df[\"tenure\"]>24) & (df[\"tenure\"]<=36),\"NEW_TENURE_YEAR\"] = \"2-3 Year\"\n",
        "df.loc[(df[\"tenure\"]>36) & (df[\"tenure\"]<=48),\"NEW_TENURE_YEAR\"] = \"3-4 Year\"\n",
        "df.loc[(df[\"tenure\"]>48) & (df[\"tenure\"]<=60),\"NEW_TENURE_YEAR\"] = \"4-5 Year\"\n",
        "df.loc[(df[\"tenure\"]>60) & (df[\"tenure\"]<=72),\"NEW_TENURE_YEAR\"] = \"5-6 Year\"\n",
        "\n",
        "df[\"NEW_Engaged\"] = df[\"Contract\"].apply(lambda x: 1 if x in [\"One year\",\"Two year\"] else 0)\n",
        "\n",
        "df[\"NEW_noProt\"] = df.apply(lambda x: 1 if (x[\"OnlineBackup\"] != \"Yes\") or (x[\"DeviceProtection\"] != \"Yes\") or (x[\"TechSupport\"] != \"Yes\") else 0, axis=1)\n",
        "\n",
        "df[\"NEW_Young_Not_Engaged\"] = df.apply(lambda x: 1 if (x[\"NEW_Engaged\"] == 0) and (x[\"SeniorCitizen\"] == 0) else 0, axis=1)\n",
        "\n",
        "df['NEW_TotalServices'] = (df[['PhoneService', 'InternetService', 'OnlineSecurity',\n",
        "                                       'OnlineBackup', 'DeviceProtection', 'TechSupport',\n",
        "                                       'StreamingTV', 'StreamingMovies']]== 'Yes').sum(axis=1)\n",
        "\n",
        "df[\"NEW_FLAG_ANY_STREAMING\"] = df.apply(lambda x: 1 if (x[\"StreamingTV\"] == \"Yes\") or (x[\"StreamingMovies\"] == \"Yes\") else 0, axis=1)\n",
        "\n",
        "df[\"NEW_FLAG_AutoPayment\"] = df[\"PaymentMethod\"].apply(lambda x: 1 if x in [\"Bank transfer (automatic)\",\"Credit card (automatic)\"] else 0)\n",
        "\n",
        "df[\"NEW_AVG_Charges\"] = df[\"TotalCharges\"] / (df[\"tenure\"] + 1)\n",
        "\n",
        "df[\"NEW_Increase\"] = df[\"NEW_AVG_Charges\"] / df[\"MonthlyCharges\"]\n",
        "\n",
        "df[\"NEW_AVG_Service_Fee\"] = df[\"MonthlyCharges\"] / (df['NEW_TotalServices'] + 1)"
      ],
      "metadata": {
        "id": "cnRFSnT3dPIG"
      },
      "execution_count": 64,
      "outputs": []
    },
    {
      "cell_type": "code",
      "source": [
        "df.head()"
      ],
      "metadata": {
        "colab": {
          "base_uri": "https://localhost:8080/",
          "height": 357
        },
        "id": "H6e8181igOZZ",
        "outputId": "9752e88d-5ae1-406c-f775-27f4a44eb257"
      },
      "execution_count": 65,
      "outputs": [
        {
          "output_type": "execute_result",
          "data": {
            "text/plain": [
              "   customerID  gender  SeniorCitizen Partner Dependents  tenure PhoneService  \\\n",
              "0  7590-VHVEG  Female              0     Yes         No       1           No   \n",
              "1  5575-GNVDE    Male              0      No         No      34          Yes   \n",
              "2  3668-QPYBK    Male              0      No         No       2          Yes   \n",
              "3  7795-CFOCW    Male              0      No         No      45           No   \n",
              "4  9237-HQITU  Female              0      No         No       2          Yes   \n",
              "\n",
              "      MultipleLines InternetService OnlineSecurity OnlineBackup  \\\n",
              "0  No phone service             DSL             No          Yes   \n",
              "1                No             DSL            Yes           No   \n",
              "2                No             DSL            Yes          Yes   \n",
              "3  No phone service             DSL            Yes           No   \n",
              "4                No     Fiber optic             No           No   \n",
              "\n",
              "  DeviceProtection TechSupport StreamingTV StreamingMovies        Contract  \\\n",
              "0               No          No          No              No  Month-to-month   \n",
              "1              Yes          No          No              No        One year   \n",
              "2               No          No          No              No  Month-to-month   \n",
              "3              Yes         Yes          No              No        One year   \n",
              "4               No          No          No              No  Month-to-month   \n",
              "\n",
              "  PaperlessBilling              PaymentMethod  MonthlyCharges  TotalCharges  \\\n",
              "0              Yes           Electronic check          29.850        29.850   \n",
              "1               No               Mailed check          56.950      1889.500   \n",
              "2              Yes               Mailed check          53.850       108.150   \n",
              "3               No  Bank transfer (automatic)          42.300      1840.750   \n",
              "4              Yes           Electronic check          70.700       151.650   \n",
              "\n",
              "   Churn NEW_TENURE_YEAR  NEW_Engaged  NEW_noProt  NEW_Young_Not_Engaged  \\\n",
              "0      0        0-1 Year            0           1                      1   \n",
              "1      0        2-3 Year            1           1                      0   \n",
              "2      1        0-1 Year            0           1                      1   \n",
              "3      0        3-4 Year            1           1                      0   \n",
              "4      1        0-1 Year            0           1                      1   \n",
              "\n",
              "   NEW_TotalServices  NEW_FLAG_ANY_STREAMING  NEW_FLAG_AutoPayment  \\\n",
              "0                  1                       0                     0   \n",
              "1                  3                       0                     0   \n",
              "2                  3                       0                     0   \n",
              "3                  3                       0                     1   \n",
              "4                  1                       0                     0   \n",
              "\n",
              "   NEW_AVG_Charges  NEW_Increase  NEW_AVG_Service_Fee  \n",
              "0           14.925         0.500               14.925  \n",
              "1           53.986         0.948               14.238  \n",
              "2           36.050         0.669               13.463  \n",
              "3           40.016         0.946               10.575  \n",
              "4           50.550         0.715               35.350  "
            ],
            "text/html": [
              "\n",
              "  <div id=\"df-72d8d7a6-c7d7-4914-84ee-e813bb8ed4d4\">\n",
              "    <div class=\"colab-df-container\">\n",
              "      <div>\n",
              "<style scoped>\n",
              "    .dataframe tbody tr th:only-of-type {\n",
              "        vertical-align: middle;\n",
              "    }\n",
              "\n",
              "    .dataframe tbody tr th {\n",
              "        vertical-align: top;\n",
              "    }\n",
              "\n",
              "    .dataframe thead th {\n",
              "        text-align: right;\n",
              "    }\n",
              "</style>\n",
              "<table border=\"1\" class=\"dataframe\">\n",
              "  <thead>\n",
              "    <tr style=\"text-align: right;\">\n",
              "      <th></th>\n",
              "      <th>customerID</th>\n",
              "      <th>gender</th>\n",
              "      <th>SeniorCitizen</th>\n",
              "      <th>Partner</th>\n",
              "      <th>Dependents</th>\n",
              "      <th>tenure</th>\n",
              "      <th>PhoneService</th>\n",
              "      <th>MultipleLines</th>\n",
              "      <th>InternetService</th>\n",
              "      <th>OnlineSecurity</th>\n",
              "      <th>OnlineBackup</th>\n",
              "      <th>DeviceProtection</th>\n",
              "      <th>TechSupport</th>\n",
              "      <th>StreamingTV</th>\n",
              "      <th>StreamingMovies</th>\n",
              "      <th>Contract</th>\n",
              "      <th>PaperlessBilling</th>\n",
              "      <th>PaymentMethod</th>\n",
              "      <th>MonthlyCharges</th>\n",
              "      <th>TotalCharges</th>\n",
              "      <th>Churn</th>\n",
              "      <th>NEW_TENURE_YEAR</th>\n",
              "      <th>NEW_Engaged</th>\n",
              "      <th>NEW_noProt</th>\n",
              "      <th>NEW_Young_Not_Engaged</th>\n",
              "      <th>NEW_TotalServices</th>\n",
              "      <th>NEW_FLAG_ANY_STREAMING</th>\n",
              "      <th>NEW_FLAG_AutoPayment</th>\n",
              "      <th>NEW_AVG_Charges</th>\n",
              "      <th>NEW_Increase</th>\n",
              "      <th>NEW_AVG_Service_Fee</th>\n",
              "    </tr>\n",
              "  </thead>\n",
              "  <tbody>\n",
              "    <tr>\n",
              "      <th>0</th>\n",
              "      <td>7590-VHVEG</td>\n",
              "      <td>Female</td>\n",
              "      <td>0</td>\n",
              "      <td>Yes</td>\n",
              "      <td>No</td>\n",
              "      <td>1</td>\n",
              "      <td>No</td>\n",
              "      <td>No phone service</td>\n",
              "      <td>DSL</td>\n",
              "      <td>No</td>\n",
              "      <td>Yes</td>\n",
              "      <td>No</td>\n",
              "      <td>No</td>\n",
              "      <td>No</td>\n",
              "      <td>No</td>\n",
              "      <td>Month-to-month</td>\n",
              "      <td>Yes</td>\n",
              "      <td>Electronic check</td>\n",
              "      <td>29.850</td>\n",
              "      <td>29.850</td>\n",
              "      <td>0</td>\n",
              "      <td>0-1 Year</td>\n",
              "      <td>0</td>\n",
              "      <td>1</td>\n",
              "      <td>1</td>\n",
              "      <td>1</td>\n",
              "      <td>0</td>\n",
              "      <td>0</td>\n",
              "      <td>14.925</td>\n",
              "      <td>0.500</td>\n",
              "      <td>14.925</td>\n",
              "    </tr>\n",
              "    <tr>\n",
              "      <th>1</th>\n",
              "      <td>5575-GNVDE</td>\n",
              "      <td>Male</td>\n",
              "      <td>0</td>\n",
              "      <td>No</td>\n",
              "      <td>No</td>\n",
              "      <td>34</td>\n",
              "      <td>Yes</td>\n",
              "      <td>No</td>\n",
              "      <td>DSL</td>\n",
              "      <td>Yes</td>\n",
              "      <td>No</td>\n",
              "      <td>Yes</td>\n",
              "      <td>No</td>\n",
              "      <td>No</td>\n",
              "      <td>No</td>\n",
              "      <td>One year</td>\n",
              "      <td>No</td>\n",
              "      <td>Mailed check</td>\n",
              "      <td>56.950</td>\n",
              "      <td>1889.500</td>\n",
              "      <td>0</td>\n",
              "      <td>2-3 Year</td>\n",
              "      <td>1</td>\n",
              "      <td>1</td>\n",
              "      <td>0</td>\n",
              "      <td>3</td>\n",
              "      <td>0</td>\n",
              "      <td>0</td>\n",
              "      <td>53.986</td>\n",
              "      <td>0.948</td>\n",
              "      <td>14.238</td>\n",
              "    </tr>\n",
              "    <tr>\n",
              "      <th>2</th>\n",
              "      <td>3668-QPYBK</td>\n",
              "      <td>Male</td>\n",
              "      <td>0</td>\n",
              "      <td>No</td>\n",
              "      <td>No</td>\n",
              "      <td>2</td>\n",
              "      <td>Yes</td>\n",
              "      <td>No</td>\n",
              "      <td>DSL</td>\n",
              "      <td>Yes</td>\n",
              "      <td>Yes</td>\n",
              "      <td>No</td>\n",
              "      <td>No</td>\n",
              "      <td>No</td>\n",
              "      <td>No</td>\n",
              "      <td>Month-to-month</td>\n",
              "      <td>Yes</td>\n",
              "      <td>Mailed check</td>\n",
              "      <td>53.850</td>\n",
              "      <td>108.150</td>\n",
              "      <td>1</td>\n",
              "      <td>0-1 Year</td>\n",
              "      <td>0</td>\n",
              "      <td>1</td>\n",
              "      <td>1</td>\n",
              "      <td>3</td>\n",
              "      <td>0</td>\n",
              "      <td>0</td>\n",
              "      <td>36.050</td>\n",
              "      <td>0.669</td>\n",
              "      <td>13.463</td>\n",
              "    </tr>\n",
              "    <tr>\n",
              "      <th>3</th>\n",
              "      <td>7795-CFOCW</td>\n",
              "      <td>Male</td>\n",
              "      <td>0</td>\n",
              "      <td>No</td>\n",
              "      <td>No</td>\n",
              "      <td>45</td>\n",
              "      <td>No</td>\n",
              "      <td>No phone service</td>\n",
              "      <td>DSL</td>\n",
              "      <td>Yes</td>\n",
              "      <td>No</td>\n",
              "      <td>Yes</td>\n",
              "      <td>Yes</td>\n",
              "      <td>No</td>\n",
              "      <td>No</td>\n",
              "      <td>One year</td>\n",
              "      <td>No</td>\n",
              "      <td>Bank transfer (automatic)</td>\n",
              "      <td>42.300</td>\n",
              "      <td>1840.750</td>\n",
              "      <td>0</td>\n",
              "      <td>3-4 Year</td>\n",
              "      <td>1</td>\n",
              "      <td>1</td>\n",
              "      <td>0</td>\n",
              "      <td>3</td>\n",
              "      <td>0</td>\n",
              "      <td>1</td>\n",
              "      <td>40.016</td>\n",
              "      <td>0.946</td>\n",
              "      <td>10.575</td>\n",
              "    </tr>\n",
              "    <tr>\n",
              "      <th>4</th>\n",
              "      <td>9237-HQITU</td>\n",
              "      <td>Female</td>\n",
              "      <td>0</td>\n",
              "      <td>No</td>\n",
              "      <td>No</td>\n",
              "      <td>2</td>\n",
              "      <td>Yes</td>\n",
              "      <td>No</td>\n",
              "      <td>Fiber optic</td>\n",
              "      <td>No</td>\n",
              "      <td>No</td>\n",
              "      <td>No</td>\n",
              "      <td>No</td>\n",
              "      <td>No</td>\n",
              "      <td>No</td>\n",
              "      <td>Month-to-month</td>\n",
              "      <td>Yes</td>\n",
              "      <td>Electronic check</td>\n",
              "      <td>70.700</td>\n",
              "      <td>151.650</td>\n",
              "      <td>1</td>\n",
              "      <td>0-1 Year</td>\n",
              "      <td>0</td>\n",
              "      <td>1</td>\n",
              "      <td>1</td>\n",
              "      <td>1</td>\n",
              "      <td>0</td>\n",
              "      <td>0</td>\n",
              "      <td>50.550</td>\n",
              "      <td>0.715</td>\n",
              "      <td>35.350</td>\n",
              "    </tr>\n",
              "  </tbody>\n",
              "</table>\n",
              "</div>\n",
              "      <button class=\"colab-df-convert\" onclick=\"convertToInteractive('df-72d8d7a6-c7d7-4914-84ee-e813bb8ed4d4')\"\n",
              "              title=\"Convert this dataframe to an interactive table.\"\n",
              "              style=\"display:none;\">\n",
              "        \n",
              "  <svg xmlns=\"http://www.w3.org/2000/svg\" height=\"24px\"viewBox=\"0 0 24 24\"\n",
              "       width=\"24px\">\n",
              "    <path d=\"M0 0h24v24H0V0z\" fill=\"none\"/>\n",
              "    <path d=\"M18.56 5.44l.94 2.06.94-2.06 2.06-.94-2.06-.94-.94-2.06-.94 2.06-2.06.94zm-11 1L8.5 8.5l.94-2.06 2.06-.94-2.06-.94L8.5 2.5l-.94 2.06-2.06.94zm10 10l.94 2.06.94-2.06 2.06-.94-2.06-.94-.94-2.06-.94 2.06-2.06.94z\"/><path d=\"M17.41 7.96l-1.37-1.37c-.4-.4-.92-.59-1.43-.59-.52 0-1.04.2-1.43.59L10.3 9.45l-7.72 7.72c-.78.78-.78 2.05 0 2.83L4 21.41c.39.39.9.59 1.41.59.51 0 1.02-.2 1.41-.59l7.78-7.78 2.81-2.81c.8-.78.8-2.07 0-2.86zM5.41 20L4 18.59l7.72-7.72 1.47 1.35L5.41 20z\"/>\n",
              "  </svg>\n",
              "      </button>\n",
              "      \n",
              "  <style>\n",
              "    .colab-df-container {\n",
              "      display:flex;\n",
              "      flex-wrap:wrap;\n",
              "      gap: 12px;\n",
              "    }\n",
              "\n",
              "    .colab-df-convert {\n",
              "      background-color: #E8F0FE;\n",
              "      border: none;\n",
              "      border-radius: 50%;\n",
              "      cursor: pointer;\n",
              "      display: none;\n",
              "      fill: #1967D2;\n",
              "      height: 32px;\n",
              "      padding: 0 0 0 0;\n",
              "      width: 32px;\n",
              "    }\n",
              "\n",
              "    .colab-df-convert:hover {\n",
              "      background-color: #E2EBFA;\n",
              "      box-shadow: 0px 1px 2px rgba(60, 64, 67, 0.3), 0px 1px 3px 1px rgba(60, 64, 67, 0.15);\n",
              "      fill: #174EA6;\n",
              "    }\n",
              "\n",
              "    [theme=dark] .colab-df-convert {\n",
              "      background-color: #3B4455;\n",
              "      fill: #D2E3FC;\n",
              "    }\n",
              "\n",
              "    [theme=dark] .colab-df-convert:hover {\n",
              "      background-color: #434B5C;\n",
              "      box-shadow: 0px 1px 3px 1px rgba(0, 0, 0, 0.15);\n",
              "      filter: drop-shadow(0px 1px 2px rgba(0, 0, 0, 0.3));\n",
              "      fill: #FFFFFF;\n",
              "    }\n",
              "  </style>\n",
              "\n",
              "      <script>\n",
              "        const buttonEl =\n",
              "          document.querySelector('#df-72d8d7a6-c7d7-4914-84ee-e813bb8ed4d4 button.colab-df-convert');\n",
              "        buttonEl.style.display =\n",
              "          google.colab.kernel.accessAllowed ? 'block' : 'none';\n",
              "\n",
              "        async function convertToInteractive(key) {\n",
              "          const element = document.querySelector('#df-72d8d7a6-c7d7-4914-84ee-e813bb8ed4d4');\n",
              "          const dataTable =\n",
              "            await google.colab.kernel.invokeFunction('convertToInteractive',\n",
              "                                                     [key], {});\n",
              "          if (!dataTable) return;\n",
              "\n",
              "          const docLinkHtml = 'Like what you see? Visit the ' +\n",
              "            '<a target=\"_blank\" href=https://colab.research.google.com/notebooks/data_table.ipynb>data table notebook</a>'\n",
              "            + ' to learn more about interactive tables.';\n",
              "          element.innerHTML = '';\n",
              "          dataTable['output_type'] = 'display_data';\n",
              "          await google.colab.output.renderOutput(dataTable, element);\n",
              "          const docLink = document.createElement('div');\n",
              "          docLink.innerHTML = docLinkHtml;\n",
              "          element.appendChild(docLink);\n",
              "        }\n",
              "      </script>\n",
              "    </div>\n",
              "  </div>\n",
              "  "
            ]
          },
          "metadata": {},
          "execution_count": 65
        }
      ]
    },
    {
      "cell_type": "markdown",
      "source": [
        "## Encoding Scaling"
      ],
      "metadata": {
        "id": "iK_-lzZhkDZ_"
      }
    },
    {
      "cell_type": "code",
      "source": [
        "cat_cols, num_cols, cat_but_car = grab_col_names(df)\n",
        "\n",
        "#Print Categorical and Numerical Variables\n",
        "print(f\"Observations: {df.shape[0]}\")\n",
        "print(f\"Variables: {df.shape[1]}\")\n",
        "print(f\"Cat_cols: {len(cat_cols)}\")\n",
        "print(f\"Num_cols: {len(num_cols)}\")\n",
        "print(f\"Cat_but_car: {len(cat_but_car)}\")"
      ],
      "metadata": {
        "colab": {
          "base_uri": "https://localhost:8080/"
        },
        "id": "pkxknoCfgSB0",
        "outputId": "7f7b1465-bb47-4cbc-aff3-dc99466e6d7b"
      },
      "execution_count": 69,
      "outputs": [
        {
          "output_type": "stream",
          "name": "stdout",
          "text": [
            "Observations: 7043\n",
            "Variables: 31\n",
            "Cat_cols: 24\n",
            "Num_cols: 6\n",
            "Cat_but_car: 1\n"
          ]
        }
      ]
    },
    {
      "cell_type": "code",
      "source": [
        "def label_encoder(dataframe, binary_col):\n",
        "  labelencoder = LabelEncoder()\n",
        "  dataframe[binary_col] = labelencoder.fit_transform(dataframe[binary_col])\n",
        "  return dataframe"
      ],
      "metadata": {
        "id": "zGq_A5QikGhj"
      },
      "execution_count": 70,
      "outputs": []
    },
    {
      "cell_type": "code",
      "source": [
        "binary_cols = [col for col in df.columns if df[col].dtypes == \"O\" and df[col].nunique() == 2]\n",
        "for col in binary_cols:\n",
        "    df = label_encoder(df, col)"
      ],
      "metadata": {
        "id": "J6p-Fs6Pk1-n"
      },
      "execution_count": 71,
      "outputs": []
    },
    {
      "cell_type": "code",
      "source": [
        "cat_cols = [col for col in cat_cols if col not in binary_cols and col not in [\"Churn\",\"NEW_TotalServices\"]]\n",
        "def one_hot_encoding(dataframe, cat_cols, drop_first=False):\n",
        "    dataframe = pd.get_dummies(dataframe, columns=cat_cols, drop_first=drop_first)\n",
        "    return dataframe"
      ],
      "metadata": {
        "id": "mom-DZJHlnMQ"
      },
      "execution_count": 74,
      "outputs": []
    },
    {
      "cell_type": "code",
      "source": [
        "df = one_hot_encoding(df, cat_cols, drop_first=True)"
      ],
      "metadata": {
        "id": "S2-y3lpWmHVQ"
      },
      "execution_count": 75,
      "outputs": []
    },
    {
      "cell_type": "code",
      "source": [
        "df.head()"
      ],
      "metadata": {
        "colab": {
          "base_uri": "https://localhost:8080/",
          "height": 392
        },
        "id": "yv5F_iHhmVoG",
        "outputId": "aff3bca8-1280-4098-c344-f035a888453a"
      },
      "execution_count": 76,
      "outputs": [
        {
          "output_type": "execute_result",
          "data": {
            "text/plain": [
              "   customerID  gender  Partner  Dependents  tenure  PhoneService  \\\n",
              "0  7590-VHVEG       0        1           0       1             0   \n",
              "1  5575-GNVDE       1        0           0      34             1   \n",
              "2  3668-QPYBK       1        0           0       2             1   \n",
              "3  7795-CFOCW       1        0           0      45             0   \n",
              "4  9237-HQITU       0        0           0       2             1   \n",
              "\n",
              "   PaperlessBilling  MonthlyCharges  TotalCharges  Churn  NEW_TotalServices  \\\n",
              "0                 1          29.850        29.850      0                  1   \n",
              "1                 0          56.950      1889.500      0                  3   \n",
              "2                 1          53.850       108.150      1                  3   \n",
              "3                 0          42.300      1840.750      0                  3   \n",
              "4                 1          70.700       151.650      1                  1   \n",
              "\n",
              "   NEW_AVG_Charges  NEW_Increase  NEW_AVG_Service_Fee  \\\n",
              "0           14.925         0.500               14.925   \n",
              "1           53.986         0.948               14.238   \n",
              "2           36.050         0.669               13.463   \n",
              "3           40.016         0.946               10.575   \n",
              "4           50.550         0.715               35.350   \n",
              "\n",
              "   MultipleLines_No phone service  MultipleLines_Yes  \\\n",
              "0                               1                  0   \n",
              "1                               0                  0   \n",
              "2                               0                  0   \n",
              "3                               1                  0   \n",
              "4                               0                  0   \n",
              "\n",
              "   InternetService_Fiber optic  InternetService_No  \\\n",
              "0                            0                   0   \n",
              "1                            0                   0   \n",
              "2                            0                   0   \n",
              "3                            0                   0   \n",
              "4                            1                   0   \n",
              "\n",
              "   OnlineSecurity_No internet service  OnlineSecurity_Yes  \\\n",
              "0                                   0                   0   \n",
              "1                                   0                   1   \n",
              "2                                   0                   1   \n",
              "3                                   0                   1   \n",
              "4                                   0                   0   \n",
              "\n",
              "   OnlineBackup_No internet service  OnlineBackup_Yes  \\\n",
              "0                                 0                 1   \n",
              "1                                 0                 0   \n",
              "2                                 0                 1   \n",
              "3                                 0                 0   \n",
              "4                                 0                 0   \n",
              "\n",
              "   DeviceProtection_No internet service  DeviceProtection_Yes  \\\n",
              "0                                     0                     0   \n",
              "1                                     0                     1   \n",
              "2                                     0                     0   \n",
              "3                                     0                     1   \n",
              "4                                     0                     0   \n",
              "\n",
              "   TechSupport_No internet service  TechSupport_Yes  \\\n",
              "0                                0                0   \n",
              "1                                0                0   \n",
              "2                                0                0   \n",
              "3                                0                1   \n",
              "4                                0                0   \n",
              "\n",
              "   StreamingTV_No internet service  StreamingTV_Yes  \\\n",
              "0                                0                0   \n",
              "1                                0                0   \n",
              "2                                0                0   \n",
              "3                                0                0   \n",
              "4                                0                0   \n",
              "\n",
              "   StreamingMovies_No internet service  StreamingMovies_Yes  \\\n",
              "0                                    0                    0   \n",
              "1                                    0                    0   \n",
              "2                                    0                    0   \n",
              "3                                    0                    0   \n",
              "4                                    0                    0   \n",
              "\n",
              "   Contract_One year  Contract_Two year  \\\n",
              "0                  0                  0   \n",
              "1                  1                  0   \n",
              "2                  0                  0   \n",
              "3                  1                  0   \n",
              "4                  0                  0   \n",
              "\n",
              "   PaymentMethod_Credit card (automatic)  PaymentMethod_Electronic check  \\\n",
              "0                                      0                               1   \n",
              "1                                      0                               0   \n",
              "2                                      0                               0   \n",
              "3                                      0                               0   \n",
              "4                                      0                               1   \n",
              "\n",
              "   PaymentMethod_Mailed check  NEW_TENURE_YEAR_1-2 Year  \\\n",
              "0                           0                         0   \n",
              "1                           1                         0   \n",
              "2                           1                         0   \n",
              "3                           0                         0   \n",
              "4                           0                         0   \n",
              "\n",
              "   NEW_TENURE_YEAR_2-3 Year  NEW_TENURE_YEAR_3-4 Year  \\\n",
              "0                         0                         0   \n",
              "1                         1                         0   \n",
              "2                         0                         0   \n",
              "3                         0                         1   \n",
              "4                         0                         0   \n",
              "\n",
              "   NEW_TENURE_YEAR_4-5 Year  NEW_TENURE_YEAR_5-6 Year  SeniorCitizen_1  \\\n",
              "0                         0                         0                0   \n",
              "1                         0                         0                0   \n",
              "2                         0                         0                0   \n",
              "3                         0                         0                0   \n",
              "4                         0                         0                0   \n",
              "\n",
              "   NEW_Engaged_1  NEW_noProt_1  NEW_Young_Not_Engaged_1  \\\n",
              "0              0             1                        1   \n",
              "1              1             1                        0   \n",
              "2              0             1                        1   \n",
              "3              1             1                        0   \n",
              "4              0             1                        1   \n",
              "\n",
              "   NEW_FLAG_ANY_STREAMING_1  NEW_FLAG_AutoPayment_1  \n",
              "0                         0                       0  \n",
              "1                         0                       0  \n",
              "2                         0                       0  \n",
              "3                         0                       1  \n",
              "4                         0                       0  "
            ],
            "text/html": [
              "\n",
              "  <div id=\"df-9002cdc8-62c6-4cbe-9e9a-cf49625b3fe7\">\n",
              "    <div class=\"colab-df-container\">\n",
              "      <div>\n",
              "<style scoped>\n",
              "    .dataframe tbody tr th:only-of-type {\n",
              "        vertical-align: middle;\n",
              "    }\n",
              "\n",
              "    .dataframe tbody tr th {\n",
              "        vertical-align: top;\n",
              "    }\n",
              "\n",
              "    .dataframe thead th {\n",
              "        text-align: right;\n",
              "    }\n",
              "</style>\n",
              "<table border=\"1\" class=\"dataframe\">\n",
              "  <thead>\n",
              "    <tr style=\"text-align: right;\">\n",
              "      <th></th>\n",
              "      <th>customerID</th>\n",
              "      <th>gender</th>\n",
              "      <th>Partner</th>\n",
              "      <th>Dependents</th>\n",
              "      <th>tenure</th>\n",
              "      <th>PhoneService</th>\n",
              "      <th>PaperlessBilling</th>\n",
              "      <th>MonthlyCharges</th>\n",
              "      <th>TotalCharges</th>\n",
              "      <th>Churn</th>\n",
              "      <th>NEW_TotalServices</th>\n",
              "      <th>NEW_AVG_Charges</th>\n",
              "      <th>NEW_Increase</th>\n",
              "      <th>NEW_AVG_Service_Fee</th>\n",
              "      <th>MultipleLines_No phone service</th>\n",
              "      <th>MultipleLines_Yes</th>\n",
              "      <th>InternetService_Fiber optic</th>\n",
              "      <th>InternetService_No</th>\n",
              "      <th>OnlineSecurity_No internet service</th>\n",
              "      <th>OnlineSecurity_Yes</th>\n",
              "      <th>OnlineBackup_No internet service</th>\n",
              "      <th>OnlineBackup_Yes</th>\n",
              "      <th>DeviceProtection_No internet service</th>\n",
              "      <th>DeviceProtection_Yes</th>\n",
              "      <th>TechSupport_No internet service</th>\n",
              "      <th>TechSupport_Yes</th>\n",
              "      <th>StreamingTV_No internet service</th>\n",
              "      <th>StreamingTV_Yes</th>\n",
              "      <th>StreamingMovies_No internet service</th>\n",
              "      <th>StreamingMovies_Yes</th>\n",
              "      <th>Contract_One year</th>\n",
              "      <th>Contract_Two year</th>\n",
              "      <th>PaymentMethod_Credit card (automatic)</th>\n",
              "      <th>PaymentMethod_Electronic check</th>\n",
              "      <th>PaymentMethod_Mailed check</th>\n",
              "      <th>NEW_TENURE_YEAR_1-2 Year</th>\n",
              "      <th>NEW_TENURE_YEAR_2-3 Year</th>\n",
              "      <th>NEW_TENURE_YEAR_3-4 Year</th>\n",
              "      <th>NEW_TENURE_YEAR_4-5 Year</th>\n",
              "      <th>NEW_TENURE_YEAR_5-6 Year</th>\n",
              "      <th>SeniorCitizen_1</th>\n",
              "      <th>NEW_Engaged_1</th>\n",
              "      <th>NEW_noProt_1</th>\n",
              "      <th>NEW_Young_Not_Engaged_1</th>\n",
              "      <th>NEW_FLAG_ANY_STREAMING_1</th>\n",
              "      <th>NEW_FLAG_AutoPayment_1</th>\n",
              "    </tr>\n",
              "  </thead>\n",
              "  <tbody>\n",
              "    <tr>\n",
              "      <th>0</th>\n",
              "      <td>7590-VHVEG</td>\n",
              "      <td>0</td>\n",
              "      <td>1</td>\n",
              "      <td>0</td>\n",
              "      <td>1</td>\n",
              "      <td>0</td>\n",
              "      <td>1</td>\n",
              "      <td>29.850</td>\n",
              "      <td>29.850</td>\n",
              "      <td>0</td>\n",
              "      <td>1</td>\n",
              "      <td>14.925</td>\n",
              "      <td>0.500</td>\n",
              "      <td>14.925</td>\n",
              "      <td>1</td>\n",
              "      <td>0</td>\n",
              "      <td>0</td>\n",
              "      <td>0</td>\n",
              "      <td>0</td>\n",
              "      <td>0</td>\n",
              "      <td>0</td>\n",
              "      <td>1</td>\n",
              "      <td>0</td>\n",
              "      <td>0</td>\n",
              "      <td>0</td>\n",
              "      <td>0</td>\n",
              "      <td>0</td>\n",
              "      <td>0</td>\n",
              "      <td>0</td>\n",
              "      <td>0</td>\n",
              "      <td>0</td>\n",
              "      <td>0</td>\n",
              "      <td>0</td>\n",
              "      <td>1</td>\n",
              "      <td>0</td>\n",
              "      <td>0</td>\n",
              "      <td>0</td>\n",
              "      <td>0</td>\n",
              "      <td>0</td>\n",
              "      <td>0</td>\n",
              "      <td>0</td>\n",
              "      <td>0</td>\n",
              "      <td>1</td>\n",
              "      <td>1</td>\n",
              "      <td>0</td>\n",
              "      <td>0</td>\n",
              "    </tr>\n",
              "    <tr>\n",
              "      <th>1</th>\n",
              "      <td>5575-GNVDE</td>\n",
              "      <td>1</td>\n",
              "      <td>0</td>\n",
              "      <td>0</td>\n",
              "      <td>34</td>\n",
              "      <td>1</td>\n",
              "      <td>0</td>\n",
              "      <td>56.950</td>\n",
              "      <td>1889.500</td>\n",
              "      <td>0</td>\n",
              "      <td>3</td>\n",
              "      <td>53.986</td>\n",
              "      <td>0.948</td>\n",
              "      <td>14.238</td>\n",
              "      <td>0</td>\n",
              "      <td>0</td>\n",
              "      <td>0</td>\n",
              "      <td>0</td>\n",
              "      <td>0</td>\n",
              "      <td>1</td>\n",
              "      <td>0</td>\n",
              "      <td>0</td>\n",
              "      <td>0</td>\n",
              "      <td>1</td>\n",
              "      <td>0</td>\n",
              "      <td>0</td>\n",
              "      <td>0</td>\n",
              "      <td>0</td>\n",
              "      <td>0</td>\n",
              "      <td>0</td>\n",
              "      <td>1</td>\n",
              "      <td>0</td>\n",
              "      <td>0</td>\n",
              "      <td>0</td>\n",
              "      <td>1</td>\n",
              "      <td>0</td>\n",
              "      <td>1</td>\n",
              "      <td>0</td>\n",
              "      <td>0</td>\n",
              "      <td>0</td>\n",
              "      <td>0</td>\n",
              "      <td>1</td>\n",
              "      <td>1</td>\n",
              "      <td>0</td>\n",
              "      <td>0</td>\n",
              "      <td>0</td>\n",
              "    </tr>\n",
              "    <tr>\n",
              "      <th>2</th>\n",
              "      <td>3668-QPYBK</td>\n",
              "      <td>1</td>\n",
              "      <td>0</td>\n",
              "      <td>0</td>\n",
              "      <td>2</td>\n",
              "      <td>1</td>\n",
              "      <td>1</td>\n",
              "      <td>53.850</td>\n",
              "      <td>108.150</td>\n",
              "      <td>1</td>\n",
              "      <td>3</td>\n",
              "      <td>36.050</td>\n",
              "      <td>0.669</td>\n",
              "      <td>13.463</td>\n",
              "      <td>0</td>\n",
              "      <td>0</td>\n",
              "      <td>0</td>\n",
              "      <td>0</td>\n",
              "      <td>0</td>\n",
              "      <td>1</td>\n",
              "      <td>0</td>\n",
              "      <td>1</td>\n",
              "      <td>0</td>\n",
              "      <td>0</td>\n",
              "      <td>0</td>\n",
              "      <td>0</td>\n",
              "      <td>0</td>\n",
              "      <td>0</td>\n",
              "      <td>0</td>\n",
              "      <td>0</td>\n",
              "      <td>0</td>\n",
              "      <td>0</td>\n",
              "      <td>0</td>\n",
              "      <td>0</td>\n",
              "      <td>1</td>\n",
              "      <td>0</td>\n",
              "      <td>0</td>\n",
              "      <td>0</td>\n",
              "      <td>0</td>\n",
              "      <td>0</td>\n",
              "      <td>0</td>\n",
              "      <td>0</td>\n",
              "      <td>1</td>\n",
              "      <td>1</td>\n",
              "      <td>0</td>\n",
              "      <td>0</td>\n",
              "    </tr>\n",
              "    <tr>\n",
              "      <th>3</th>\n",
              "      <td>7795-CFOCW</td>\n",
              "      <td>1</td>\n",
              "      <td>0</td>\n",
              "      <td>0</td>\n",
              "      <td>45</td>\n",
              "      <td>0</td>\n",
              "      <td>0</td>\n",
              "      <td>42.300</td>\n",
              "      <td>1840.750</td>\n",
              "      <td>0</td>\n",
              "      <td>3</td>\n",
              "      <td>40.016</td>\n",
              "      <td>0.946</td>\n",
              "      <td>10.575</td>\n",
              "      <td>1</td>\n",
              "      <td>0</td>\n",
              "      <td>0</td>\n",
              "      <td>0</td>\n",
              "      <td>0</td>\n",
              "      <td>1</td>\n",
              "      <td>0</td>\n",
              "      <td>0</td>\n",
              "      <td>0</td>\n",
              "      <td>1</td>\n",
              "      <td>0</td>\n",
              "      <td>1</td>\n",
              "      <td>0</td>\n",
              "      <td>0</td>\n",
              "      <td>0</td>\n",
              "      <td>0</td>\n",
              "      <td>1</td>\n",
              "      <td>0</td>\n",
              "      <td>0</td>\n",
              "      <td>0</td>\n",
              "      <td>0</td>\n",
              "      <td>0</td>\n",
              "      <td>0</td>\n",
              "      <td>1</td>\n",
              "      <td>0</td>\n",
              "      <td>0</td>\n",
              "      <td>0</td>\n",
              "      <td>1</td>\n",
              "      <td>1</td>\n",
              "      <td>0</td>\n",
              "      <td>0</td>\n",
              "      <td>1</td>\n",
              "    </tr>\n",
              "    <tr>\n",
              "      <th>4</th>\n",
              "      <td>9237-HQITU</td>\n",
              "      <td>0</td>\n",
              "      <td>0</td>\n",
              "      <td>0</td>\n",
              "      <td>2</td>\n",
              "      <td>1</td>\n",
              "      <td>1</td>\n",
              "      <td>70.700</td>\n",
              "      <td>151.650</td>\n",
              "      <td>1</td>\n",
              "      <td>1</td>\n",
              "      <td>50.550</td>\n",
              "      <td>0.715</td>\n",
              "      <td>35.350</td>\n",
              "      <td>0</td>\n",
              "      <td>0</td>\n",
              "      <td>1</td>\n",
              "      <td>0</td>\n",
              "      <td>0</td>\n",
              "      <td>0</td>\n",
              "      <td>0</td>\n",
              "      <td>0</td>\n",
              "      <td>0</td>\n",
              "      <td>0</td>\n",
              "      <td>0</td>\n",
              "      <td>0</td>\n",
              "      <td>0</td>\n",
              "      <td>0</td>\n",
              "      <td>0</td>\n",
              "      <td>0</td>\n",
              "      <td>0</td>\n",
              "      <td>0</td>\n",
              "      <td>0</td>\n",
              "      <td>1</td>\n",
              "      <td>0</td>\n",
              "      <td>0</td>\n",
              "      <td>0</td>\n",
              "      <td>0</td>\n",
              "      <td>0</td>\n",
              "      <td>0</td>\n",
              "      <td>0</td>\n",
              "      <td>0</td>\n",
              "      <td>1</td>\n",
              "      <td>1</td>\n",
              "      <td>0</td>\n",
              "      <td>0</td>\n",
              "    </tr>\n",
              "  </tbody>\n",
              "</table>\n",
              "</div>\n",
              "      <button class=\"colab-df-convert\" onclick=\"convertToInteractive('df-9002cdc8-62c6-4cbe-9e9a-cf49625b3fe7')\"\n",
              "              title=\"Convert this dataframe to an interactive table.\"\n",
              "              style=\"display:none;\">\n",
              "        \n",
              "  <svg xmlns=\"http://www.w3.org/2000/svg\" height=\"24px\"viewBox=\"0 0 24 24\"\n",
              "       width=\"24px\">\n",
              "    <path d=\"M0 0h24v24H0V0z\" fill=\"none\"/>\n",
              "    <path d=\"M18.56 5.44l.94 2.06.94-2.06 2.06-.94-2.06-.94-.94-2.06-.94 2.06-2.06.94zm-11 1L8.5 8.5l.94-2.06 2.06-.94-2.06-.94L8.5 2.5l-.94 2.06-2.06.94zm10 10l.94 2.06.94-2.06 2.06-.94-2.06-.94-.94-2.06-.94 2.06-2.06.94z\"/><path d=\"M17.41 7.96l-1.37-1.37c-.4-.4-.92-.59-1.43-.59-.52 0-1.04.2-1.43.59L10.3 9.45l-7.72 7.72c-.78.78-.78 2.05 0 2.83L4 21.41c.39.39.9.59 1.41.59.51 0 1.02-.2 1.41-.59l7.78-7.78 2.81-2.81c.8-.78.8-2.07 0-2.86zM5.41 20L4 18.59l7.72-7.72 1.47 1.35L5.41 20z\"/>\n",
              "  </svg>\n",
              "      </button>\n",
              "      \n",
              "  <style>\n",
              "    .colab-df-container {\n",
              "      display:flex;\n",
              "      flex-wrap:wrap;\n",
              "      gap: 12px;\n",
              "    }\n",
              "\n",
              "    .colab-df-convert {\n",
              "      background-color: #E8F0FE;\n",
              "      border: none;\n",
              "      border-radius: 50%;\n",
              "      cursor: pointer;\n",
              "      display: none;\n",
              "      fill: #1967D2;\n",
              "      height: 32px;\n",
              "      padding: 0 0 0 0;\n",
              "      width: 32px;\n",
              "    }\n",
              "\n",
              "    .colab-df-convert:hover {\n",
              "      background-color: #E2EBFA;\n",
              "      box-shadow: 0px 1px 2px rgba(60, 64, 67, 0.3), 0px 1px 3px 1px rgba(60, 64, 67, 0.15);\n",
              "      fill: #174EA6;\n",
              "    }\n",
              "\n",
              "    [theme=dark] .colab-df-convert {\n",
              "      background-color: #3B4455;\n",
              "      fill: #D2E3FC;\n",
              "    }\n",
              "\n",
              "    [theme=dark] .colab-df-convert:hover {\n",
              "      background-color: #434B5C;\n",
              "      box-shadow: 0px 1px 3px 1px rgba(0, 0, 0, 0.15);\n",
              "      filter: drop-shadow(0px 1px 2px rgba(0, 0, 0, 0.3));\n",
              "      fill: #FFFFFF;\n",
              "    }\n",
              "  </style>\n",
              "\n",
              "      <script>\n",
              "        const buttonEl =\n",
              "          document.querySelector('#df-9002cdc8-62c6-4cbe-9e9a-cf49625b3fe7 button.colab-df-convert');\n",
              "        buttonEl.style.display =\n",
              "          google.colab.kernel.accessAllowed ? 'block' : 'none';\n",
              "\n",
              "        async function convertToInteractive(key) {\n",
              "          const element = document.querySelector('#df-9002cdc8-62c6-4cbe-9e9a-cf49625b3fe7');\n",
              "          const dataTable =\n",
              "            await google.colab.kernel.invokeFunction('convertToInteractive',\n",
              "                                                     [key], {});\n",
              "          if (!dataTable) return;\n",
              "\n",
              "          const docLinkHtml = 'Like what you see? Visit the ' +\n",
              "            '<a target=\"_blank\" href=https://colab.research.google.com/notebooks/data_table.ipynb>data table notebook</a>'\n",
              "            + ' to learn more about interactive tables.';\n",
              "          element.innerHTML = '';\n",
              "          dataTable['output_type'] = 'display_data';\n",
              "          await google.colab.output.renderOutput(dataTable, element);\n",
              "          const docLink = document.createElement('div');\n",
              "          docLink.innerHTML = docLinkHtml;\n",
              "          element.appendChild(docLink);\n",
              "        }\n",
              "      </script>\n",
              "    </div>\n",
              "  </div>\n",
              "  "
            ]
          },
          "metadata": {},
          "execution_count": 76
        }
      ]
    },
    {
      "cell_type": "markdown",
      "source": [
        "## Modeling"
      ],
      "metadata": {
        "id": "1SRektkJmd9h"
      }
    },
    {
      "cell_type": "code",
      "source": [
        "y = df[\"Churn\"]\n",
        "X = df.drop([\"Churn\",\"customerID\"], axis=1)\n",
        "\n",
        "X_train, X_test, y_train, y_test = train_test_split(X, y, test_size=0.30, random_state=17)\n",
        "\n",
        "catboost_model = CatBoostClassifier(verbose=False, random_state=46).fit(X_train, y_train)\n",
        "y_pred = catboost_model.predict(X_test)\n",
        "\n",
        "print(f\"Accuracy: {round(accuracy_score(y_pred, y_test), 2)}\")\n",
        "print(f\"Recall: {round(recall_score(y_pred,y_test),2)}\")\n",
        "print(f\"Precision: {round(precision_score(y_pred,y_test), 2)}\")\n",
        "print(f\"F1: {round(f1_score(y_pred,y_test), 2)}\")\n",
        "print(f\"Auc: {round(roc_auc_score(y_pred,y_test), 2)}\")"
      ],
      "metadata": {
        "colab": {
          "base_uri": "https://localhost:8080/"
        },
        "id": "t9qomch7mWod",
        "outputId": "6d52d2ef-2417-4419-dfb4-d60c416dbf3a"
      },
      "execution_count": 77,
      "outputs": [
        {
          "output_type": "stream",
          "name": "stdout",
          "text": [
            "Accuracy: 0.79\n",
            "Recall: 0.66\n",
            "Precision: 0.49\n",
            "F1: 0.56\n",
            "Auc: 0.74\n"
          ]
        }
      ]
    },
    {
      "cell_type": "code",
      "source": [
        "def plot_importance(model, features, num=len(X), save=False):\n",
        "    feature_imp = pd.DataFrame({'Value': model.feature_importances_, 'Feature': features.columns})\n",
        "    print(feature_imp.sort_values(\"Value\",ascending=False))\n",
        "    plt.figure(figsize=(10, 10))\n",
        "    sns.set(font_scale=1)\n",
        "    sns.barplot(x=\"Value\", y=\"Feature\", data=feature_imp.sort_values(by=\"Value\", ascending=False)[0:num])\n",
        "    plt.title('Features')\n",
        "    plt.tight_layout()\n",
        "    plt.show()\n",
        "    if save:\n",
        "        plt.savefig('importances.png')"
      ],
      "metadata": {
        "id": "x6lMUuTimt27"
      },
      "execution_count": 78,
      "outputs": []
    },
    {
      "cell_type": "code",
      "source": [
        "plot_importance(catboost_model, X)"
      ],
      "metadata": {
        "colab": {
          "base_uri": "https://localhost:8080/",
          "height": 1000
        },
        "id": "N9keQ7bMnYwj",
        "outputId": "cb8d166d-e953-40d6-90a9-71eab67753b3"
      },
      "execution_count": 79,
      "outputs": [
        {
          "output_type": "stream",
          "name": "stdout",
          "text": [
            "    Value                                Feature\n",
            "10  9.853                           NEW_Increase\n",
            "11  9.347                    NEW_AVG_Service_Fee\n",
            "7   8.931                           TotalCharges\n",
            "3   8.543                                 tenure\n",
            "6   7.826                         MonthlyCharges\n",
            "9   6.439                        NEW_AVG_Charges\n",
            "39  5.659                          NEW_Engaged_1\n",
            "29  3.966                      Contract_Two year\n",
            "5   3.964                       PaperlessBilling\n",
            "0   2.620                                 gender\n",
            "14  2.469            InternetService_Fiber optic\n",
            "8   1.868                      NEW_TotalServices\n",
            "13  1.846                      MultipleLines_Yes\n",
            "21  1.751                   DeviceProtection_Yes\n",
            "31  1.652         PaymentMethod_Electronic check\n",
            "38  1.535                        SeniorCitizen_1\n",
            "2   1.531                             Dependents\n",
            "37  1.324               NEW_TENURE_YEAR_5-6 Year\n",
            "25  1.271                        StreamingTV_Yes\n",
            "23  1.251                        TechSupport_Yes\n",
            "19  1.218                       OnlineBackup_Yes\n",
            "34  1.215               NEW_TENURE_YEAR_2-3 Year\n",
            "27  1.125                    StreamingMovies_Yes\n",
            "17  1.074                     OnlineSecurity_Yes\n",
            "28  0.984                      Contract_One year\n",
            "35  0.979               NEW_TENURE_YEAR_3-4 Year\n",
            "30  0.975  PaymentMethod_Credit card (automatic)\n",
            "1   0.967                                Partner\n",
            "32  0.945             PaymentMethod_Mailed check\n",
            "43  0.865                 NEW_FLAG_AutoPayment_1\n",
            "41  0.840                NEW_Young_Not_Engaged_1\n",
            "4   0.836                           PhoneService\n",
            "42  0.796               NEW_FLAG_ANY_STREAMING_1\n",
            "12  0.675         MultipleLines_No phone service\n",
            "15  0.540                     InternetService_No\n",
            "33  0.488               NEW_TENURE_YEAR_1-2 Year\n",
            "36  0.439               NEW_TENURE_YEAR_4-5 Year\n",
            "20  0.306   DeviceProtection_No internet service\n",
            "22  0.246        TechSupport_No internet service\n",
            "24  0.211        StreamingTV_No internet service\n",
            "40  0.200                           NEW_noProt_1\n",
            "18  0.192       OnlineBackup_No internet service\n",
            "26  0.122    StreamingMovies_No internet service\n",
            "16  0.119     OnlineSecurity_No internet service\n"
          ]
        },
        {
          "output_type": "display_data",
          "data": {
            "text/plain": [
              "<Figure size 720x720 with 1 Axes>"
            ],
            "image/png": "[encoded data removed]"
          },
          "metadata": {}
        }
      ]
    }
  ]
}